{
  "nbformat": 4,
  "nbformat_minor": 0,
  "metadata": {
    "colab": {
      "provenance": []
    },
    "kernelspec": {
      "name": "python3",
      "display_name": "Python 3"
    },
    "language_info": {
      "name": "python"
    }
  },
  "cells": [
    {
      "cell_type": "markdown",
      "source": [
        "#Unit One: introduction to deep learning with PyTorch"
      ],
      "metadata": {
        "id": "NTerWuuGKrSi"
      }
    },
    {
      "cell_type": "code",
      "execution_count": null,
      "metadata": {
        "id": "6KMwtK5k6H3_"
      },
      "outputs": [],
      "source": [
        "import torch"
      ]
    },
    {
      "cell_type": "markdown",
      "source": [
        "# Tensors"
      ],
      "metadata": {
        "id": "GjcYF5TR8vms"
      }
    },
    {
      "cell_type": "code",
      "source": [
        "array=[[1,2,3],[4,5,6]]\n",
        "tensor=torch.tensor(array) #load from list"
      ],
      "metadata": {
        "id": "cG6zHsnn8uml"
      },
      "execution_count": null,
      "outputs": []
    },
    {
      "cell_type": "code",
      "source": [
        "import numpy as np\n",
        "np_array=np.array(array)\n",
        "np_tensor=torch.from_numpy(np_array)#load from array"
      ],
      "metadata": {
        "id": "zxeSmv229EFW"
      },
      "execution_count": null,
      "outputs": []
    },
    {
      "cell_type": "code",
      "source": [
        "#tensor shape\n",
        "array=[[1,2,3],[4,5,6]]\n",
        "tensor=torch.tensor(array)\n",
        "print(tensor.shape)\n",
        "#tensor data type\n",
        "print(tensor.dtype)\n",
        "#tensor device\n",
        "print(tensor.device)"
      ],
      "metadata": {
        "colab": {
          "base_uri": "https://localhost:8080/"
        },
        "id": "FI591yVRv34C",
        "outputId": "6a26c832-7407-4c03-f22a-76de9760e143"
      },
      "execution_count": null,
      "outputs": [
        {
          "output_type": "stream",
          "name": "stdout",
          "text": [
            "torch.Size([2, 3])\n",
            "torch.int64\n",
            "cpu\n"
          ]
        }
      ]
    },
    {
      "cell_type": "code",
      "source": [
        "#Tensor operation. Most MumPy array operations can be performed by PyTorch tensors.\n",
        "a=torch.tensor([[1,1],\n",
        "                [2,2]])\n",
        "b=torch.tensor([[2,2],\n",
        "                [3,3]])\n",
        "print(a+b) # compatible shapes\n",
        "c=torch.tensor([[2,3,4],\n",
        "                [3,3,5]])\n",
        "#print(a+c) #incompatible shapes\n",
        "print(a*b) # element-wise multiplication\n"
      ],
      "metadata": {
        "colab": {
          "base_uri": "https://localhost:8080/"
        },
        "id": "W2lmEZSPwgue",
        "outputId": "4c6c64d9-57d6-4134-c3d8-0efa0f34dca7"
      },
      "execution_count": null,
      "outputs": [
        {
          "output_type": "stream",
          "name": "stdout",
          "text": [
            "tensor([[3, 3],\n",
            "        [5, 5]])\n",
            "tensor([[2, 2],\n",
            "        [6, 6]])\n"
          ]
        }
      ]
    },
    {
      "cell_type": "markdown",
      "source": [
        "#Creating First Neural Network"
      ],
      "metadata": {
        "id": "7z0tT333x-f2"
      }
    },
    {
      "cell_type": "code",
      "source": [
        "import torch.nn as nn\n",
        "# create input tenspr with three features\n",
        "input_tensor=torch.tensor(\n",
        "    [[0.3471,0.4547,-0.2356]]\n",
        ")\n",
        "#define first linear layer\n",
        "linear_layer=nn.Linear(in_features=3,out_features=2)\n",
        "#pass the input through thelinear layer to get output of first layer\n",
        "output=linear_layer(input_tensor)\n",
        "print(output)"
      ],
      "metadata": {
        "colab": {
          "base_uri": "https://localhost:8080/"
        },
        "id": "10F4T4TlyGRf",
        "outputId": "b4c79c19-df46-474e-a4b8-f7a36701c199"
      },
      "execution_count": null,
      "outputs": [
        {
          "output_type": "stream",
          "name": "stdout",
          "text": [
            "tensor([[ 0.1320, -0.2182]], grad_fn=<AddmmBackward0>)\n"
          ]
        }
      ]
    },
    {
      "cell_type": "code",
      "source": [
        "#GETTING TO KNOW LINEAR LAYER OPERATION\n",
        "# each linear layer has a weight and bias\n",
        "print(linear_layer.weight)\n",
        "print(linear_layer.bias)"
      ],
      "metadata": {
        "colab": {
          "base_uri": "https://localhost:8080/"
        },
        "id": "c-rUO6YszXY2",
        "outputId": "78979ed5-9d3e-453a-d175-09f5f055d0ed"
      },
      "execution_count": null,
      "outputs": [
        {
          "output_type": "stream",
          "name": "stdout",
          "text": [
            "Parameter containing:\n",
            "tensor([[-0.4249, -0.3922,  0.3395],\n",
            "        [ 0.0618, -0.1022,  0.1398]], requires_grad=True)\n",
            "Parameter containing:\n",
            "tensor([ 0.5378, -0.1603], requires_grad=True)\n"
          ]
        }
      ]
    },
    {
      "cell_type": "code",
      "source": [
        "#STACKING LAYERS WITH nn.Sequencial()\n",
        "\n",
        "#Create netowrk with three linear layers\n",
        "model=nn.Sequential(\n",
        "    nn.Linear(10,18),\n",
        "    nn.Linear(18,20),\n",
        "    nn.Linear(20,5)\n",
        ")\n",
        "input=torch.randn(1,10)\n",
        "output=model(input)\n",
        "\n",
        "print(output)"
      ],
      "metadata": {
        "colab": {
          "base_uri": "https://localhost:8080/"
        },
        "id": "j5yHEvhR0HbS",
        "outputId": "43ab68c0-81a3-4cc0-afe3-6a150d460762"
      },
      "execution_count": null,
      "outputs": [
        {
          "output_type": "stream",
          "name": "stdout",
          "text": [
            "tensor([[ 0.1911,  0.0246, -0.1744,  0.0134,  0.1652]],\n",
            "       grad_fn=<AddmmBackward0>)\n"
          ]
        }
      ]
    },
    {
      "cell_type": "code",
      "source": [],
      "metadata": {
        "id": "kRGDRlz45B0P"
      },
      "execution_count": null,
      "outputs": []
    },
    {
      "cell_type": "markdown",
      "source": [
        "#Discovering activation functions\n",
        "WHY WE NEED ACTIVATION FUCNTION?\n",
        "----Actiivation function add non-linearity to the nertwork\n",
        "---A model can learn more complex relationships with non-linearity"
      ],
      "metadata": {
        "id": "P_HFiDfB7CSn"
      }
    },
    {
      "cell_type": "code",
      "source": [
        "#sigmoid activation function\n",
        "\n",
        "import torch\n",
        "#print(torch.__version__)\n",
        "import torch.nn as nn\n",
        "input=torch.tensor([[6.0]])\n",
        "\n",
        "sigmoid=nn.Sigmoid()\n",
        "output=sigmoid(input)\n",
        "print(output)"
      ],
      "metadata": {
        "colab": {
          "base_uri": "https://localhost:8080/"
        },
        "id": "VpgCU83j7Gxe",
        "outputId": "561783aa-5981-4fce-b4fe-ee9d3b719262"
      },
      "execution_count": null,
      "outputs": [
        {
          "output_type": "stream",
          "name": "stdout",
          "text": [
            "tensor([[0.9975]])\n"
          ]
        }
      ]
    },
    {
      "cell_type": "code",
      "source": [
        "#Activation function as last layer\n",
        "model=nn.Sequential(\n",
        "    nn.Linear(6,4), # 1st linear layer\n",
        "    nn.Linear(4,1), #2nd linaer layer\n",
        "    nn.Sigmoid() # Activation function\n",
        ")"
      ],
      "metadata": {
        "id": "qRSSYlj-KIJQ"
      },
      "execution_count": null,
      "outputs": []
    },
    {
      "cell_type": "markdown",
      "source": [],
      "metadata": {
        "id": "_jfjxz8BSlPw"
      }
    },
    {
      "cell_type": "markdown",
      "source": [
        "Getting aquainted with softmax\n",
        "\n",
        "\n",
        "\n",
        "*   Used in multi-class classification.\n",
        "\n",
        "*   Takes N-element vector as input and outputs vector of same size.\n",
        "\n",
        "\n",
        "*   Outputs a probability distribution.\n",
        "\n",
        "\n",
        "\n",
        "\n",
        "\n",
        "\n"
      ],
      "metadata": {
        "id": "6l92m932LDMf"
      }
    },
    {
      "cell_type": "code",
      "source": [
        "import torch\n",
        "import torch.nn as nn\n",
        "# create an input tensor\n",
        "input=torch.tensor(\n",
        "    [[4.3,6.1,2.3]]\n",
        ")\n",
        "# Apply softmax along the last dimension\n",
        "probabilities=nn.Softmax(dim=-1) # Dim=-1 inndicates softmax is applied to the input's last deimension.\n",
        "output=probabilities(input)\n",
        "print(output)"
      ],
      "metadata": {
        "colab": {
          "base_uri": "https://localhost:8080/"
        },
        "id": "qZgJp3K6Lr6Y",
        "outputId": "9018d4c2-4ebf-47b5-f136-0c805737d6b9"
      },
      "execution_count": null,
      "outputs": [
        {
          "output_type": "stream",
          "name": "stdout",
          "text": [
            "tensor([[0.1392, 0.8420, 0.0188]])\n"
          ]
        }
      ]
    },
    {
      "cell_type": "markdown",
      "source": [
        "#Unit two:Running a forward pass"
      ],
      "metadata": {
        "id": "SR9_sSIwMowk"
      }
    },
    {
      "cell_type": "markdown",
      "source": [
        "Binary Classificatin: Forward Pass"
      ],
      "metadata": {
        "id": "MwIo2rgm_aVz"
      }
    },
    {
      "cell_type": "code",
      "source": [
        "#ctreat input data of shape 5*6\n",
        "import torch\n",
        "import torch.nn as nn\n",
        "input_tensor = torch.tensor([[1, 2, 3, 4, 5, 6],\n",
        "                             [7, 8, 9, 10, 11, 12],\n",
        "                             [13, 14, 15, 16, 17, 18],\n",
        "                             [19, 20, 21, 22, 23, 24],\n",
        "                             [25, 26, 27, 28, 29, 30]],dtype=torch.float)"
      ],
      "metadata": {
        "id": "QafdTKOfMsLq"
      },
      "execution_count": null,
      "outputs": []
    },
    {
      "cell_type": "code",
      "source": [
        "#creat binary classification model\n",
        "model=nn.Sequential(\n",
        "                    nn.Linear(6,4),\n",
        "                    nn.Linear(4,1),\n",
        "                    nn.Sigmoid()\n",
        ")\n",
        "#pass input data trhough model\n",
        "output=model(input_tensor)\n",
        "print(output)"
      ],
      "metadata": {
        "colab": {
          "base_uri": "https://localhost:8080/"
        },
        "id": "PuR1Ht6h_nOT",
        "outputId": "f22f5e98-8f31-4d7e-94c5-3724678cfa44"
      },
      "execution_count": null,
      "outputs": [
        {
          "output_type": "stream",
          "name": "stdout",
          "text": [
            "tensor([[0.7452],\n",
            "        [0.9499],\n",
            "        [0.9919],\n",
            "        [0.9987],\n",
            "        [0.9998]], grad_fn=<SigmoidBackward0>)\n"
          ]
        }
      ]
    },
    {
      "cell_type": "markdown",
      "source": [
        "Multi-class classification: forward pass\n"
      ],
      "metadata": {
        "id": "I5C-b0_zJ1uw"
      }
    },
    {
      "cell_type": "code",
      "source": [
        "# specify the number of classes\n",
        "n_classes=3\n",
        "#create multiclass classification model\n",
        "model= nn.Sequential(\n",
        "    nn.Linear(6,4),\n",
        "    nn.Linear(4,n_classes),\n",
        "    nn.Softmax(dim=-1)\n",
        "\n",
        ")\n",
        "output=model(input_tensor)\n",
        "print((output))"
      ],
      "metadata": {
        "id": "bl6rpk1u__WM",
        "colab": {
          "base_uri": "https://localhost:8080/"
        },
        "outputId": "a8a361bf-99de-4bfa-947a-792e0fed4047"
      },
      "execution_count": null,
      "outputs": [
        {
          "output_type": "stream",
          "name": "stdout",
          "text": [
            "tensor([[4.1097e-01, 5.7729e-01, 1.1747e-02],\n",
            "        [3.2633e-01, 6.7356e-01, 1.0458e-04],\n",
            "        [2.4796e-01, 7.5204e-01, 8.9089e-07],\n",
            "        [1.8327e-01, 8.1673e-01, 7.3824e-09],\n",
            "        [1.3248e-01, 8.6752e-01, 5.9831e-11]], grad_fn=<SoftmaxBackward0>)\n"
          ]
        }
      ]
    },
    {
      "cell_type": "markdown",
      "source": [
        "Regression: forward pass\n"
      ],
      "metadata": {
        "id": "IFBF_qpkMQY8"
      }
    },
    {
      "cell_type": "code",
      "source": [
        "#create regression model\n",
        "model= nn.Sequential(\n",
        "    nn.Linear(6,4),\n",
        "    nn.Linear(4,1)\n",
        ")\n",
        "output=model(input_tensor)\n",
        "print(output)"
      ],
      "metadata": {
        "colab": {
          "base_uri": "https://localhost:8080/"
        },
        "id": "VerIlVhmMTv8",
        "outputId": "97b4c061-dbb4-448d-c9f5-1e12818a0db8"
      },
      "execution_count": null,
      "outputs": [
        {
          "output_type": "stream",
          "name": "stdout",
          "text": [
            "tensor([[0.6557],\n",
            "        [1.0573],\n",
            "        [1.4590],\n",
            "        [1.8607],\n",
            "        [2.2623]], grad_fn=<AddmmBackward0>)\n"
          ]
        }
      ]
    },
    {
      "cell_type": "markdown",
      "source": [
        "Using loss functions to assess model predictions\n",
        "\n",
        "---\n",
        "\n",
        "\n",
        "*   Gives feedback to model during training\n",
        "*   Takes in model prediction y_hat and groud truth y\n",
        "* Outputs a float\n",
        "\n",
        "\n"
      ],
      "metadata": {
        "id": "Gp3F4qEaMryC"
      }
    },
    {
      "cell_type": "markdown",
      "source": [
        "One-hot encoding concept\n",
        "* loss =f(y_hat,y)\n",
        "* y is a single value either 0 or 1\n",
        "* y_hat is a tensor( output of a softmax)\n",
        "* to compare tensor with an integer we convert y to one hot concoding\n",
        "* if num of class N=3 then for y=0 we would assign y= 1,0,0 meaning first class ( 0 class) is given value."
      ],
      "metadata": {
        "id": "wFvT-wupNtVQ"
      }
    },
    {
      "cell_type": "markdown",
      "source": [
        "Transforming labels with one-hot encoding"
      ],
      "metadata": {
        "id": "U-XuUsYDOTux"
      }
    },
    {
      "cell_type": "code",
      "source": [
        "import torch.nn.functional as F\n",
        "F.one_hot(torch.tensor(0),num_classes=3\n",
        "          )\n",
        "F.one_hot(torch.tensor(1),num_classes=3\n",
        "          )\n",
        "F.one_hot(torch.tensor(2),num_classes=3\n",
        "          )"
      ],
      "metadata": {
        "colab": {
          "base_uri": "https://localhost:8080/"
        },
        "id": "qSPsJei_MZUZ",
        "outputId": "46dcd73b-e7c1-4239-dd0f-1b585dc0579b"
      },
      "execution_count": null,
      "outputs": [
        {
          "output_type": "execute_result",
          "data": {
            "text/plain": [
              "tensor([0, 0, 1])"
            ]
          },
          "metadata": {},
          "execution_count": 25
        }
      ]
    },
    {
      "cell_type": "markdown",
      "source": [
        "Cross entropy loss in PyTorch\n"
      ],
      "metadata": {
        "id": "2qFSfW7YXje8"
      }
    },
    {
      "cell_type": "code",
      "source": [
        "from torch.nn import CrossEntropyLoss\n",
        "scores=torch.tensor([[-0.1211,0.1059]])\n",
        "one_hot_target= torch.tensor([[1,0]])\n",
        "criterion=CrossEntropyLoss()\n",
        "criterion(scores.double(),one_hot_target.double())"
      ],
      "metadata": {
        "colab": {
          "base_uri": "https://localhost:8080/"
        },
        "id": "7QAQowiaPGDU",
        "outputId": "c1581632-ea9b-4ba9-9f38-b79b8300ff6d"
      },
      "execution_count": null,
      "outputs": [
        {
          "output_type": "execute_result",
          "data": {
            "text/plain": [
              "tensor(0.8131, dtype=torch.float64)"
            ]
          },
          "metadata": {},
          "execution_count": 27
        }
      ]
    },
    {
      "cell_type": "markdown",
      "source": [
        "Uisng derivatives to update model parameters"
      ],
      "metadata": {
        "id": "Lxm-EH2jbcki"
      }
    },
    {
      "cell_type": "markdown",
      "source": [
        "Backpropagation in PyTorch"
      ],
      "metadata": {
        "id": "Q-q0saXNb_GN"
      }
    },
    {
      "cell_type": "code",
      "source": [
        "import torch\n",
        "import torch.nn as nn\n",
        "\n",
        "# Define the sample input tensor\n",
        "sample = torch.randn(1, 16)  # A batch of 1 with 16 features\n",
        "\n",
        "# Create the model\n",
        "model = nn.Sequential(\n",
        "    nn.Linear(16, 8),\n",
        "    nn.Linear(8, 4),\n",
        "    nn.Linear(4, 2)\n",
        ")\n",
        "\n",
        "# Run a forward pass\n",
        "prediction = model(sample)\n",
        "\n",
        "# Define the target as a class index (not one-hot encoded)\n",
        "target = torch.tensor([1])  # Class index (e.g., for a batch size of 1)\n",
        "\n",
        "# Calculate the loss and compute the gradients\n",
        "criterion = nn.CrossEntropyLoss()\n",
        "loss = criterion(prediction, target)\n",
        "\n",
        "# Backward pass to compute gradients\n",
        "loss.backward()\n",
        "\n",
        "# Print the loss for verification\n",
        "print(\"Loss:\", loss.item())\n"
      ],
      "metadata": {
        "colab": {
          "base_uri": "https://localhost:8080/"
        },
        "id": "0zRkKjglYUD_",
        "outputId": "350dc384-8a9b-451e-c2ab-9173fe81d831"
      },
      "execution_count": null,
      "outputs": [
        {
          "output_type": "stream",
          "name": "stdout",
          "text": [
            "Loss: 0.5056609511375427\n"
          ]
        }
      ]
    },
    {
      "cell_type": "code",
      "source": [
        "# Access each layer's grdaients\n",
        "print(model[0].bias.grad)\n",
        "print(model[0].weight.grad)"
      ],
      "metadata": {
        "colab": {
          "base_uri": "https://localhost:8080/"
        },
        "id": "HhnnSKted5v9",
        "outputId": "29648536-50ea-4e0f-8d4d-dd213d48d21d"
      },
      "execution_count": null,
      "outputs": [
        {
          "output_type": "stream",
          "name": "stdout",
          "text": [
            "tensor([ 0.0061, -0.0415, -0.0978,  0.0040, -0.0804, -0.0434, -0.0024,  0.0642])\n",
            "tensor([[-0.0004, -0.0083,  0.0067,  0.0084, -0.0056,  0.0048,  0.0017, -0.0017,\n",
            "          0.0022, -0.0022,  0.0049, -0.0028,  0.0021, -0.0013,  0.0097,  0.0046],\n",
            "        [ 0.0030,  0.0566, -0.0453, -0.0571,  0.0379, -0.0329, -0.0115,  0.0117,\n",
            "         -0.0151,  0.0152, -0.0332,  0.0193, -0.0140,  0.0092, -0.0658, -0.0313],\n",
            "        [ 0.0072,  0.1332, -0.1067, -0.1343,  0.0892, -0.0773, -0.0271,  0.0274,\n",
            "         -0.0356,  0.0358, -0.0782,  0.0455, -0.0330,  0.0216, -0.1550, -0.0736],\n",
            "        [-0.0003, -0.0054,  0.0044,  0.0055, -0.0036,  0.0032,  0.0011, -0.0011,\n",
            "          0.0015, -0.0015,  0.0032, -0.0019,  0.0013, -0.0009,  0.0063,  0.0030],\n",
            "        [ 0.0059,  0.1095, -0.0877, -0.1104,  0.0733, -0.0636, -0.0223,  0.0226,\n",
            "         -0.0292,  0.0294, -0.0643,  0.0374, -0.0271,  0.0177, -0.1274, -0.0605],\n",
            "        [ 0.0032,  0.0591, -0.0473, -0.0596,  0.0396, -0.0343, -0.0120,  0.0122,\n",
            "         -0.0158,  0.0159, -0.0347,  0.0202, -0.0146,  0.0096, -0.0688, -0.0327],\n",
            "        [ 0.0002,  0.0033, -0.0027, -0.0033,  0.0022, -0.0019, -0.0007,  0.0007,\n",
            "         -0.0009,  0.0009, -0.0019,  0.0011, -0.0008,  0.0005, -0.0039, -0.0018],\n",
            "        [-0.0047, -0.0875,  0.0700,  0.0882, -0.0586,  0.0508,  0.0178, -0.0180,\n",
            "          0.0234, -0.0235,  0.0514, -0.0299,  0.0217, -0.0142,  0.1018,  0.0483]])\n"
          ]
        }
      ]
    },
    {
      "cell_type": "markdown",
      "source": [
        "updating the model parameters"
      ],
      "metadata": {
        "id": "MXeKeJQPdxJL"
      }
    },
    {
      "cell_type": "code",
      "source": [
        "lr=0.001\n",
        "#update the weights\n",
        "weight=model[0].weight\n",
        "weight_grad=model[0].weight.grad\n",
        "weight=weight-lr*weight_grad\n",
        "#update the biases\n",
        "bias=model[0].bias\n",
        "bias_grad=model[0].bias\n",
        "bias=bias-lr*bias_grad"
      ],
      "metadata": {
        "id": "7RtcdrxqdFND"
      },
      "execution_count": null,
      "outputs": []
    },
    {
      "cell_type": "markdown",
      "source": [
        "Gradient descent\n",
        "\n",
        "\n",
        "*   For non-convex funstions, we will use an ietrative approach such as gtradient descent\n",
        "*   In pyTorch, as optimizer takes care of weight updates\n",
        "* The most common optimizer us stochastic gradient descent (SGD)\n",
        "\n",
        "\n",
        "\n",
        "\n"
      ],
      "metadata": {
        "id": "BzRzo9JafD85"
      }
    },
    {
      "cell_type": "code",
      "source": [
        "import torch.optim as optim\n",
        "#create the optimizer\n",
        "optimizer =optim.SGD(model.parameters(),lr=0.001)\n",
        "optimizer.zero_grad()\n",
        "optimizer.step()"
      ],
      "metadata": {
        "id": "QCgHyA65e1HP"
      },
      "execution_count": null,
      "outputs": []
    },
    {
      "cell_type": "markdown",
      "source": [
        "Writing our first training loop\n",
        "---\n",
        " Training a neural network\n",
        "\n",
        "\n",
        "\n",
        "1.   Create a model\n",
        "2.   Choose a loss function\n",
        "3. Create a dataset\n",
        "4. Define an optimizer\n",
        "5. Run a training loop, where each sample of the dataset, we repeat:\n",
        "\n",
        "\n",
        "*   Calculating loss(forward pass)\n",
        "*   Calculating the local gradients\n",
        "* Updating model parameters\n",
        "\n",
        "\n",
        "\n",
        "\n",
        "\n",
        "\n"
      ],
      "metadata": {
        "id": "OZ0prI_5gSV2"
      }
    },
    {
      "cell_type": "markdown",
      "source": [
        "Introducing the Data Science Salary dataset\n",
        "\n",
        "\n",
        "*   the target is salary is US dollars;it is not a category but a continuous quantity\n",
        "*   For regreassion problems, we can not use softmax or sigmois as last actication function\n",
        "* We need different loss function than cross-entropy\n",
        "\n"
      ],
      "metadata": {
        "id": "wemVwD2rhyp_"
      }
    },
    {
      "cell_type": "code",
      "source": [
        "import kagglehub\n",
        "\n",
        "# Download latest version\n",
        "path = kagglehub.dataset_download(\"saurabhshahane/data-science-jobs-salaries\")\n",
        "\n",
        "print(\"Path to dataset files:\", path)"
      ],
      "metadata": {
        "colab": {
          "base_uri": "https://localhost:8080/"
        },
        "id": "1xmmFeTsiT7T",
        "outputId": "5b16b80e-e4d5-4544-bbeb-e36d0d483e4f"
      },
      "execution_count": null,
      "outputs": [
        {
          "output_type": "stream",
          "name": "stdout",
          "text": [
            "Path to dataset files: /root/.cache/kagglehub/datasets/saurabhshahane/data-science-jobs-salaries/versions/2\n"
          ]
        }
      ]
    },
    {
      "cell_type": "code",
      "source": [
        "import pandas as pd\n",
        "\n",
        "# Load the dataset into a pandas DataFrame\n",
        "dataset_path = path + '/Data Science Jobs Salaries.csv'  # Modify this if the dataset has a different file name\n",
        "df = pd.read_csv(dataset_path)\n",
        "\n",
        "# Show the first few rows of the dataset\n",
        "df.head()\n"
      ],
      "metadata": {
        "colab": {
          "base_uri": "https://localhost:8080/",
          "height": 365
        },
        "id": "khgdhSn8iwKA",
        "outputId": "eab4d13a-bb5a-4b38-fb4e-ac38f26ac0e1"
      },
      "execution_count": null,
      "outputs": [
        {
          "output_type": "execute_result",
          "data": {
            "text/plain": [
              "  work_year experience_level employment_type                  job_title  \\\n",
              "0     2021e               EN              FT    Data Science Consultant   \n",
              "1      2020               SE              FT             Data Scientist   \n",
              "2     2021e               EX              FT       Head of Data Science   \n",
              "3     2021e               EX              FT               Head of Data   \n",
              "4     2021e               EN              FT  Machine Learning Engineer   \n",
              "\n",
              "   salary salary_currency  salary_in_usd employee_residence  remote_ratio  \\\n",
              "0   54000             EUR          64369                 DE            50   \n",
              "1   60000             EUR          68428                 GR           100   \n",
              "2   85000             USD          85000                 RU             0   \n",
              "3  230000             USD         230000                 RU            50   \n",
              "4  125000             USD         125000                 US           100   \n",
              "\n",
              "  company_location company_size  \n",
              "0               DE            L  \n",
              "1               US            L  \n",
              "2               RU            M  \n",
              "3               RU            L  \n",
              "4               US            S  "
            ],
            "text/html": [
              "\n",
              "  <div id=\"df-1ba2a194-bdcd-426f-8eb7-6e3c28429e27\" class=\"colab-df-container\">\n",
              "    <div>\n",
              "<style scoped>\n",
              "    .dataframe tbody tr th:only-of-type {\n",
              "        vertical-align: middle;\n",
              "    }\n",
              "\n",
              "    .dataframe tbody tr th {\n",
              "        vertical-align: top;\n",
              "    }\n",
              "\n",
              "    .dataframe thead th {\n",
              "        text-align: right;\n",
              "    }\n",
              "</style>\n",
              "<table border=\"1\" class=\"dataframe\">\n",
              "  <thead>\n",
              "    <tr style=\"text-align: right;\">\n",
              "      <th></th>\n",
              "      <th>work_year</th>\n",
              "      <th>experience_level</th>\n",
              "      <th>employment_type</th>\n",
              "      <th>job_title</th>\n",
              "      <th>salary</th>\n",
              "      <th>salary_currency</th>\n",
              "      <th>salary_in_usd</th>\n",
              "      <th>employee_residence</th>\n",
              "      <th>remote_ratio</th>\n",
              "      <th>company_location</th>\n",
              "      <th>company_size</th>\n",
              "    </tr>\n",
              "  </thead>\n",
              "  <tbody>\n",
              "    <tr>\n",
              "      <th>0</th>\n",
              "      <td>2021e</td>\n",
              "      <td>EN</td>\n",
              "      <td>FT</td>\n",
              "      <td>Data Science Consultant</td>\n",
              "      <td>54000</td>\n",
              "      <td>EUR</td>\n",
              "      <td>64369</td>\n",
              "      <td>DE</td>\n",
              "      <td>50</td>\n",
              "      <td>DE</td>\n",
              "      <td>L</td>\n",
              "    </tr>\n",
              "    <tr>\n",
              "      <th>1</th>\n",
              "      <td>2020</td>\n",
              "      <td>SE</td>\n",
              "      <td>FT</td>\n",
              "      <td>Data Scientist</td>\n",
              "      <td>60000</td>\n",
              "      <td>EUR</td>\n",
              "      <td>68428</td>\n",
              "      <td>GR</td>\n",
              "      <td>100</td>\n",
              "      <td>US</td>\n",
              "      <td>L</td>\n",
              "    </tr>\n",
              "    <tr>\n",
              "      <th>2</th>\n",
              "      <td>2021e</td>\n",
              "      <td>EX</td>\n",
              "      <td>FT</td>\n",
              "      <td>Head of Data Science</td>\n",
              "      <td>85000</td>\n",
              "      <td>USD</td>\n",
              "      <td>85000</td>\n",
              "      <td>RU</td>\n",
              "      <td>0</td>\n",
              "      <td>RU</td>\n",
              "      <td>M</td>\n",
              "    </tr>\n",
              "    <tr>\n",
              "      <th>3</th>\n",
              "      <td>2021e</td>\n",
              "      <td>EX</td>\n",
              "      <td>FT</td>\n",
              "      <td>Head of Data</td>\n",
              "      <td>230000</td>\n",
              "      <td>USD</td>\n",
              "      <td>230000</td>\n",
              "      <td>RU</td>\n",
              "      <td>50</td>\n",
              "      <td>RU</td>\n",
              "      <td>L</td>\n",
              "    </tr>\n",
              "    <tr>\n",
              "      <th>4</th>\n",
              "      <td>2021e</td>\n",
              "      <td>EN</td>\n",
              "      <td>FT</td>\n",
              "      <td>Machine Learning Engineer</td>\n",
              "      <td>125000</td>\n",
              "      <td>USD</td>\n",
              "      <td>125000</td>\n",
              "      <td>US</td>\n",
              "      <td>100</td>\n",
              "      <td>US</td>\n",
              "      <td>S</td>\n",
              "    </tr>\n",
              "  </tbody>\n",
              "</table>\n",
              "</div>\n",
              "    <div class=\"colab-df-buttons\">\n",
              "\n",
              "  <div class=\"colab-df-container\">\n",
              "    <button class=\"colab-df-convert\" onclick=\"convertToInteractive('df-1ba2a194-bdcd-426f-8eb7-6e3c28429e27')\"\n",
              "            title=\"Convert this dataframe to an interactive table.\"\n",
              "            style=\"display:none;\">\n",
              "\n",
              "  <svg xmlns=\"http://www.w3.org/2000/svg\" height=\"24px\" viewBox=\"0 -960 960 960\">\n",
              "    <path d=\"M120-120v-720h720v720H120Zm60-500h600v-160H180v160Zm220 220h160v-160H400v160Zm0 220h160v-160H400v160ZM180-400h160v-160H180v160Zm440 0h160v-160H620v160ZM180-180h160v-160H180v160Zm440 0h160v-160H620v160Z\"/>\n",
              "  </svg>\n",
              "    </button>\n",
              "\n",
              "  <style>\n",
              "    .colab-df-container {\n",
              "      display:flex;\n",
              "      gap: 12px;\n",
              "    }\n",
              "\n",
              "    .colab-df-convert {\n",
              "      background-color: #E8F0FE;\n",
              "      border: none;\n",
              "      border-radius: 50%;\n",
              "      cursor: pointer;\n",
              "      display: none;\n",
              "      fill: #1967D2;\n",
              "      height: 32px;\n",
              "      padding: 0 0 0 0;\n",
              "      width: 32px;\n",
              "    }\n",
              "\n",
              "    .colab-df-convert:hover {\n",
              "      background-color: #E2EBFA;\n",
              "      box-shadow: 0px 1px 2px rgba(60, 64, 67, 0.3), 0px 1px 3px 1px rgba(60, 64, 67, 0.15);\n",
              "      fill: #174EA6;\n",
              "    }\n",
              "\n",
              "    .colab-df-buttons div {\n",
              "      margin-bottom: 4px;\n",
              "    }\n",
              "\n",
              "    [theme=dark] .colab-df-convert {\n",
              "      background-color: #3B4455;\n",
              "      fill: #D2E3FC;\n",
              "    }\n",
              "\n",
              "    [theme=dark] .colab-df-convert:hover {\n",
              "      background-color: #434B5C;\n",
              "      box-shadow: 0px 1px 3px 1px rgba(0, 0, 0, 0.15);\n",
              "      filter: drop-shadow(0px 1px 2px rgba(0, 0, 0, 0.3));\n",
              "      fill: #FFFFFF;\n",
              "    }\n",
              "  </style>\n",
              "\n",
              "    <script>\n",
              "      const buttonEl =\n",
              "        document.querySelector('#df-1ba2a194-bdcd-426f-8eb7-6e3c28429e27 button.colab-df-convert');\n",
              "      buttonEl.style.display =\n",
              "        google.colab.kernel.accessAllowed ? 'block' : 'none';\n",
              "\n",
              "      async function convertToInteractive(key) {\n",
              "        const element = document.querySelector('#df-1ba2a194-bdcd-426f-8eb7-6e3c28429e27');\n",
              "        const dataTable =\n",
              "          await google.colab.kernel.invokeFunction('convertToInteractive',\n",
              "                                                    [key], {});\n",
              "        if (!dataTable) return;\n",
              "\n",
              "        const docLinkHtml = 'Like what you see? Visit the ' +\n",
              "          '<a target=\"_blank\" href=https://colab.research.google.com/notebooks/data_table.ipynb>data table notebook</a>'\n",
              "          + ' to learn more about interactive tables.';\n",
              "        element.innerHTML = '';\n",
              "        dataTable['output_type'] = 'display_data';\n",
              "        await google.colab.output.renderOutput(dataTable, element);\n",
              "        const docLink = document.createElement('div');\n",
              "        docLink.innerHTML = docLinkHtml;\n",
              "        element.appendChild(docLink);\n",
              "      }\n",
              "    </script>\n",
              "  </div>\n",
              "\n",
              "\n",
              "<div id=\"df-6e4c873f-1a77-484b-b127-8d347c51e7e7\">\n",
              "  <button class=\"colab-df-quickchart\" onclick=\"quickchart('df-6e4c873f-1a77-484b-b127-8d347c51e7e7')\"\n",
              "            title=\"Suggest charts\"\n",
              "            style=\"display:none;\">\n",
              "\n",
              "<svg xmlns=\"http://www.w3.org/2000/svg\" height=\"24px\"viewBox=\"0 0 24 24\"\n",
              "     width=\"24px\">\n",
              "    <g>\n",
              "        <path d=\"M19 3H5c-1.1 0-2 .9-2 2v14c0 1.1.9 2 2 2h14c1.1 0 2-.9 2-2V5c0-1.1-.9-2-2-2zM9 17H7v-7h2v7zm4 0h-2V7h2v10zm4 0h-2v-4h2v4z\"/>\n",
              "    </g>\n",
              "</svg>\n",
              "  </button>\n",
              "\n",
              "<style>\n",
              "  .colab-df-quickchart {\n",
              "      --bg-color: #E8F0FE;\n",
              "      --fill-color: #1967D2;\n",
              "      --hover-bg-color: #E2EBFA;\n",
              "      --hover-fill-color: #174EA6;\n",
              "      --disabled-fill-color: #AAA;\n",
              "      --disabled-bg-color: #DDD;\n",
              "  }\n",
              "\n",
              "  [theme=dark] .colab-df-quickchart {\n",
              "      --bg-color: #3B4455;\n",
              "      --fill-color: #D2E3FC;\n",
              "      --hover-bg-color: #434B5C;\n",
              "      --hover-fill-color: #FFFFFF;\n",
              "      --disabled-bg-color: #3B4455;\n",
              "      --disabled-fill-color: #666;\n",
              "  }\n",
              "\n",
              "  .colab-df-quickchart {\n",
              "    background-color: var(--bg-color);\n",
              "    border: none;\n",
              "    border-radius: 50%;\n",
              "    cursor: pointer;\n",
              "    display: none;\n",
              "    fill: var(--fill-color);\n",
              "    height: 32px;\n",
              "    padding: 0;\n",
              "    width: 32px;\n",
              "  }\n",
              "\n",
              "  .colab-df-quickchart:hover {\n",
              "    background-color: var(--hover-bg-color);\n",
              "    box-shadow: 0 1px 2px rgba(60, 64, 67, 0.3), 0 1px 3px 1px rgba(60, 64, 67, 0.15);\n",
              "    fill: var(--button-hover-fill-color);\n",
              "  }\n",
              "\n",
              "  .colab-df-quickchart-complete:disabled,\n",
              "  .colab-df-quickchart-complete:disabled:hover {\n",
              "    background-color: var(--disabled-bg-color);\n",
              "    fill: var(--disabled-fill-color);\n",
              "    box-shadow: none;\n",
              "  }\n",
              "\n",
              "  .colab-df-spinner {\n",
              "    border: 2px solid var(--fill-color);\n",
              "    border-color: transparent;\n",
              "    border-bottom-color: var(--fill-color);\n",
              "    animation:\n",
              "      spin 1s steps(1) infinite;\n",
              "  }\n",
              "\n",
              "  @keyframes spin {\n",
              "    0% {\n",
              "      border-color: transparent;\n",
              "      border-bottom-color: var(--fill-color);\n",
              "      border-left-color: var(--fill-color);\n",
              "    }\n",
              "    20% {\n",
              "      border-color: transparent;\n",
              "      border-left-color: var(--fill-color);\n",
              "      border-top-color: var(--fill-color);\n",
              "    }\n",
              "    30% {\n",
              "      border-color: transparent;\n",
              "      border-left-color: var(--fill-color);\n",
              "      border-top-color: var(--fill-color);\n",
              "      border-right-color: var(--fill-color);\n",
              "    }\n",
              "    40% {\n",
              "      border-color: transparent;\n",
              "      border-right-color: var(--fill-color);\n",
              "      border-top-color: var(--fill-color);\n",
              "    }\n",
              "    60% {\n",
              "      border-color: transparent;\n",
              "      border-right-color: var(--fill-color);\n",
              "    }\n",
              "    80% {\n",
              "      border-color: transparent;\n",
              "      border-right-color: var(--fill-color);\n",
              "      border-bottom-color: var(--fill-color);\n",
              "    }\n",
              "    90% {\n",
              "      border-color: transparent;\n",
              "      border-bottom-color: var(--fill-color);\n",
              "    }\n",
              "  }\n",
              "</style>\n",
              "\n",
              "  <script>\n",
              "    async function quickchart(key) {\n",
              "      const quickchartButtonEl =\n",
              "        document.querySelector('#' + key + ' button');\n",
              "      quickchartButtonEl.disabled = true;  // To prevent multiple clicks.\n",
              "      quickchartButtonEl.classList.add('colab-df-spinner');\n",
              "      try {\n",
              "        const charts = await google.colab.kernel.invokeFunction(\n",
              "            'suggestCharts', [key], {});\n",
              "      } catch (error) {\n",
              "        console.error('Error during call to suggestCharts:', error);\n",
              "      }\n",
              "      quickchartButtonEl.classList.remove('colab-df-spinner');\n",
              "      quickchartButtonEl.classList.add('colab-df-quickchart-complete');\n",
              "    }\n",
              "    (() => {\n",
              "      let quickchartButtonEl =\n",
              "        document.querySelector('#df-6e4c873f-1a77-484b-b127-8d347c51e7e7 button');\n",
              "      quickchartButtonEl.style.display =\n",
              "        google.colab.kernel.accessAllowed ? 'block' : 'none';\n",
              "    })();\n",
              "  </script>\n",
              "</div>\n",
              "\n",
              "    </div>\n",
              "  </div>\n"
            ],
            "application/vnd.google.colaboratory.intrinsic+json": {
              "type": "dataframe",
              "variable_name": "df",
              "summary": "{\n  \"name\": \"df\",\n  \"rows\": 245,\n  \"fields\": [\n    {\n      \"column\": \"work_year\",\n      \"properties\": {\n        \"dtype\": \"category\",\n        \"num_unique_values\": 2,\n        \"samples\": [\n          \"2020\",\n          \"2021e\"\n        ],\n        \"semantic_type\": \"\",\n        \"description\": \"\"\n      }\n    },\n    {\n      \"column\": \"experience_level\",\n      \"properties\": {\n        \"dtype\": \"category\",\n        \"num_unique_values\": 4,\n        \"samples\": [\n          \"SE\",\n          \"MI\"\n        ],\n        \"semantic_type\": \"\",\n        \"description\": \"\"\n      }\n    },\n    {\n      \"column\": \"employment_type\",\n      \"properties\": {\n        \"dtype\": \"category\",\n        \"num_unique_values\": 4,\n        \"samples\": [\n          \"PT\",\n          \"FL\"\n        ],\n        \"semantic_type\": \"\",\n        \"description\": \"\"\n      }\n    },\n    {\n      \"column\": \"job_title\",\n      \"properties\": {\n        \"dtype\": \"category\",\n        \"num_unique_values\": 43,\n        \"samples\": [\n          \"Computer Vision Engineer\",\n          \"Director of Data Engineering\"\n        ],\n        \"semantic_type\": \"\",\n        \"description\": \"\"\n      }\n    },\n    {\n      \"column\": \"salary\",\n      \"properties\": {\n        \"dtype\": \"number\",\n        \"std\": 2276230,\n        \"min\": 4000,\n        \"max\": 30400000,\n        \"num_unique_values\": 144,\n        \"samples\": [\n          325000,\n          400000\n        ],\n        \"semantic_type\": \"\",\n        \"description\": \"\"\n      }\n    },\n    {\n      \"column\": \"salary_currency\",\n      \"properties\": {\n        \"dtype\": \"category\",\n        \"num_unique_values\": 15,\n        \"samples\": [\n          \"TRY\",\n          \"JPY\"\n        ],\n        \"semantic_type\": \"\",\n        \"description\": \"\"\n      }\n    },\n    {\n      \"column\": \"salary_in_usd\",\n      \"properties\": {\n        \"dtype\": \"number\",\n        \"std\": 83983,\n        \"min\": 2876,\n        \"max\": 600000,\n        \"num_unique_values\": 188,\n        \"samples\": [\n          423000,\n          18000\n        ],\n        \"semantic_type\": \"\",\n        \"description\": \"\"\n      }\n    },\n    {\n      \"column\": \"employee_residence\",\n      \"properties\": {\n        \"dtype\": \"category\",\n        \"num_unique_values\": 45,\n        \"samples\": [\n          \"HK\",\n          \"JP\"\n        ],\n        \"semantic_type\": \"\",\n        \"description\": \"\"\n      }\n    },\n    {\n      \"column\": \"remote_ratio\",\n      \"properties\": {\n        \"dtype\": \"number\",\n        \"std\": 37,\n        \"min\": 0,\n        \"max\": 100,\n        \"num_unique_values\": 3,\n        \"samples\": [\n          50,\n          100\n        ],\n        \"semantic_type\": \"\",\n        \"description\": \"\"\n      }\n    },\n    {\n      \"column\": \"company_location\",\n      \"properties\": {\n        \"dtype\": \"category\",\n        \"num_unique_values\": 41,\n        \"samples\": [\n          \"NZ\",\n          \"DK\"\n        ],\n        \"semantic_type\": \"\",\n        \"description\": \"\"\n      }\n    },\n    {\n      \"column\": \"company_size\",\n      \"properties\": {\n        \"dtype\": \"category\",\n        \"num_unique_values\": 3,\n        \"samples\": [\n          \"L\",\n          \"M\"\n        ],\n        \"semantic_type\": \"\",\n        \"description\": \"\"\n      }\n    }\n  ]\n}"
            }
          },
          "metadata": {},
          "execution_count": 49
        }
      ]
    },
    {
      "cell_type": "code",
      "source": [
        "# Keep only the specified columns\n",
        "columns_to_keep = ['experience_level', 'employment_type', 'remote_ratio', 'company_size', 'salary_in_usd']\n",
        "df_filtered = df[columns_to_keep]\n",
        "df_filtered.head()"
      ],
      "metadata": {
        "colab": {
          "base_uri": "https://localhost:8080/",
          "height": 206
        },
        "id": "mG9eIC04jb-I",
        "outputId": "526be98a-2c97-477d-d452-4e5e204db679"
      },
      "execution_count": null,
      "outputs": [
        {
          "output_type": "execute_result",
          "data": {
            "text/plain": [
              "  experience_level employment_type  remote_ratio company_size  salary_in_usd\n",
              "0               EN              FT            50            L          64369\n",
              "1               SE              FT           100            L          68428\n",
              "2               EX              FT             0            M          85000\n",
              "3               EX              FT            50            L         230000\n",
              "4               EN              FT           100            S         125000"
            ],
            "text/html": [
              "\n",
              "  <div id=\"df-8b48ae20-63bd-475a-b61c-e221c38f1ba4\" class=\"colab-df-container\">\n",
              "    <div>\n",
              "<style scoped>\n",
              "    .dataframe tbody tr th:only-of-type {\n",
              "        vertical-align: middle;\n",
              "    }\n",
              "\n",
              "    .dataframe tbody tr th {\n",
              "        vertical-align: top;\n",
              "    }\n",
              "\n",
              "    .dataframe thead th {\n",
              "        text-align: right;\n",
              "    }\n",
              "</style>\n",
              "<table border=\"1\" class=\"dataframe\">\n",
              "  <thead>\n",
              "    <tr style=\"text-align: right;\">\n",
              "      <th></th>\n",
              "      <th>experience_level</th>\n",
              "      <th>employment_type</th>\n",
              "      <th>remote_ratio</th>\n",
              "      <th>company_size</th>\n",
              "      <th>salary_in_usd</th>\n",
              "    </tr>\n",
              "  </thead>\n",
              "  <tbody>\n",
              "    <tr>\n",
              "      <th>0</th>\n",
              "      <td>EN</td>\n",
              "      <td>FT</td>\n",
              "      <td>50</td>\n",
              "      <td>L</td>\n",
              "      <td>64369</td>\n",
              "    </tr>\n",
              "    <tr>\n",
              "      <th>1</th>\n",
              "      <td>SE</td>\n",
              "      <td>FT</td>\n",
              "      <td>100</td>\n",
              "      <td>L</td>\n",
              "      <td>68428</td>\n",
              "    </tr>\n",
              "    <tr>\n",
              "      <th>2</th>\n",
              "      <td>EX</td>\n",
              "      <td>FT</td>\n",
              "      <td>0</td>\n",
              "      <td>M</td>\n",
              "      <td>85000</td>\n",
              "    </tr>\n",
              "    <tr>\n",
              "      <th>3</th>\n",
              "      <td>EX</td>\n",
              "      <td>FT</td>\n",
              "      <td>50</td>\n",
              "      <td>L</td>\n",
              "      <td>230000</td>\n",
              "    </tr>\n",
              "    <tr>\n",
              "      <th>4</th>\n",
              "      <td>EN</td>\n",
              "      <td>FT</td>\n",
              "      <td>100</td>\n",
              "      <td>S</td>\n",
              "      <td>125000</td>\n",
              "    </tr>\n",
              "  </tbody>\n",
              "</table>\n",
              "</div>\n",
              "    <div class=\"colab-df-buttons\">\n",
              "\n",
              "  <div class=\"colab-df-container\">\n",
              "    <button class=\"colab-df-convert\" onclick=\"convertToInteractive('df-8b48ae20-63bd-475a-b61c-e221c38f1ba4')\"\n",
              "            title=\"Convert this dataframe to an interactive table.\"\n",
              "            style=\"display:none;\">\n",
              "\n",
              "  <svg xmlns=\"http://www.w3.org/2000/svg\" height=\"24px\" viewBox=\"0 -960 960 960\">\n",
              "    <path d=\"M120-120v-720h720v720H120Zm60-500h600v-160H180v160Zm220 220h160v-160H400v160Zm0 220h160v-160H400v160ZM180-400h160v-160H180v160Zm440 0h160v-160H620v160ZM180-180h160v-160H180v160Zm440 0h160v-160H620v160Z\"/>\n",
              "  </svg>\n",
              "    </button>\n",
              "\n",
              "  <style>\n",
              "    .colab-df-container {\n",
              "      display:flex;\n",
              "      gap: 12px;\n",
              "    }\n",
              "\n",
              "    .colab-df-convert {\n",
              "      background-color: #E8F0FE;\n",
              "      border: none;\n",
              "      border-radius: 50%;\n",
              "      cursor: pointer;\n",
              "      display: none;\n",
              "      fill: #1967D2;\n",
              "      height: 32px;\n",
              "      padding: 0 0 0 0;\n",
              "      width: 32px;\n",
              "    }\n",
              "\n",
              "    .colab-df-convert:hover {\n",
              "      background-color: #E2EBFA;\n",
              "      box-shadow: 0px 1px 2px rgba(60, 64, 67, 0.3), 0px 1px 3px 1px rgba(60, 64, 67, 0.15);\n",
              "      fill: #174EA6;\n",
              "    }\n",
              "\n",
              "    .colab-df-buttons div {\n",
              "      margin-bottom: 4px;\n",
              "    }\n",
              "\n",
              "    [theme=dark] .colab-df-convert {\n",
              "      background-color: #3B4455;\n",
              "      fill: #D2E3FC;\n",
              "    }\n",
              "\n",
              "    [theme=dark] .colab-df-convert:hover {\n",
              "      background-color: #434B5C;\n",
              "      box-shadow: 0px 1px 3px 1px rgba(0, 0, 0, 0.15);\n",
              "      filter: drop-shadow(0px 1px 2px rgba(0, 0, 0, 0.3));\n",
              "      fill: #FFFFFF;\n",
              "    }\n",
              "  </style>\n",
              "\n",
              "    <script>\n",
              "      const buttonEl =\n",
              "        document.querySelector('#df-8b48ae20-63bd-475a-b61c-e221c38f1ba4 button.colab-df-convert');\n",
              "      buttonEl.style.display =\n",
              "        google.colab.kernel.accessAllowed ? 'block' : 'none';\n",
              "\n",
              "      async function convertToInteractive(key) {\n",
              "        const element = document.querySelector('#df-8b48ae20-63bd-475a-b61c-e221c38f1ba4');\n",
              "        const dataTable =\n",
              "          await google.colab.kernel.invokeFunction('convertToInteractive',\n",
              "                                                    [key], {});\n",
              "        if (!dataTable) return;\n",
              "\n",
              "        const docLinkHtml = 'Like what you see? Visit the ' +\n",
              "          '<a target=\"_blank\" href=https://colab.research.google.com/notebooks/data_table.ipynb>data table notebook</a>'\n",
              "          + ' to learn more about interactive tables.';\n",
              "        element.innerHTML = '';\n",
              "        dataTable['output_type'] = 'display_data';\n",
              "        await google.colab.output.renderOutput(dataTable, element);\n",
              "        const docLink = document.createElement('div');\n",
              "        docLink.innerHTML = docLinkHtml;\n",
              "        element.appendChild(docLink);\n",
              "      }\n",
              "    </script>\n",
              "  </div>\n",
              "\n",
              "\n",
              "<div id=\"df-3cd957c3-006b-4fe8-986b-4cca3729d86f\">\n",
              "  <button class=\"colab-df-quickchart\" onclick=\"quickchart('df-3cd957c3-006b-4fe8-986b-4cca3729d86f')\"\n",
              "            title=\"Suggest charts\"\n",
              "            style=\"display:none;\">\n",
              "\n",
              "<svg xmlns=\"http://www.w3.org/2000/svg\" height=\"24px\"viewBox=\"0 0 24 24\"\n",
              "     width=\"24px\">\n",
              "    <g>\n",
              "        <path d=\"M19 3H5c-1.1 0-2 .9-2 2v14c0 1.1.9 2 2 2h14c1.1 0 2-.9 2-2V5c0-1.1-.9-2-2-2zM9 17H7v-7h2v7zm4 0h-2V7h2v10zm4 0h-2v-4h2v4z\"/>\n",
              "    </g>\n",
              "</svg>\n",
              "  </button>\n",
              "\n",
              "<style>\n",
              "  .colab-df-quickchart {\n",
              "      --bg-color: #E8F0FE;\n",
              "      --fill-color: #1967D2;\n",
              "      --hover-bg-color: #E2EBFA;\n",
              "      --hover-fill-color: #174EA6;\n",
              "      --disabled-fill-color: #AAA;\n",
              "      --disabled-bg-color: #DDD;\n",
              "  }\n",
              "\n",
              "  [theme=dark] .colab-df-quickchart {\n",
              "      --bg-color: #3B4455;\n",
              "      --fill-color: #D2E3FC;\n",
              "      --hover-bg-color: #434B5C;\n",
              "      --hover-fill-color: #FFFFFF;\n",
              "      --disabled-bg-color: #3B4455;\n",
              "      --disabled-fill-color: #666;\n",
              "  }\n",
              "\n",
              "  .colab-df-quickchart {\n",
              "    background-color: var(--bg-color);\n",
              "    border: none;\n",
              "    border-radius: 50%;\n",
              "    cursor: pointer;\n",
              "    display: none;\n",
              "    fill: var(--fill-color);\n",
              "    height: 32px;\n",
              "    padding: 0;\n",
              "    width: 32px;\n",
              "  }\n",
              "\n",
              "  .colab-df-quickchart:hover {\n",
              "    background-color: var(--hover-bg-color);\n",
              "    box-shadow: 0 1px 2px rgba(60, 64, 67, 0.3), 0 1px 3px 1px rgba(60, 64, 67, 0.15);\n",
              "    fill: var(--button-hover-fill-color);\n",
              "  }\n",
              "\n",
              "  .colab-df-quickchart-complete:disabled,\n",
              "  .colab-df-quickchart-complete:disabled:hover {\n",
              "    background-color: var(--disabled-bg-color);\n",
              "    fill: var(--disabled-fill-color);\n",
              "    box-shadow: none;\n",
              "  }\n",
              "\n",
              "  .colab-df-spinner {\n",
              "    border: 2px solid var(--fill-color);\n",
              "    border-color: transparent;\n",
              "    border-bottom-color: var(--fill-color);\n",
              "    animation:\n",
              "      spin 1s steps(1) infinite;\n",
              "  }\n",
              "\n",
              "  @keyframes spin {\n",
              "    0% {\n",
              "      border-color: transparent;\n",
              "      border-bottom-color: var(--fill-color);\n",
              "      border-left-color: var(--fill-color);\n",
              "    }\n",
              "    20% {\n",
              "      border-color: transparent;\n",
              "      border-left-color: var(--fill-color);\n",
              "      border-top-color: var(--fill-color);\n",
              "    }\n",
              "    30% {\n",
              "      border-color: transparent;\n",
              "      border-left-color: var(--fill-color);\n",
              "      border-top-color: var(--fill-color);\n",
              "      border-right-color: var(--fill-color);\n",
              "    }\n",
              "    40% {\n",
              "      border-color: transparent;\n",
              "      border-right-color: var(--fill-color);\n",
              "      border-top-color: var(--fill-color);\n",
              "    }\n",
              "    60% {\n",
              "      border-color: transparent;\n",
              "      border-right-color: var(--fill-color);\n",
              "    }\n",
              "    80% {\n",
              "      border-color: transparent;\n",
              "      border-right-color: var(--fill-color);\n",
              "      border-bottom-color: var(--fill-color);\n",
              "    }\n",
              "    90% {\n",
              "      border-color: transparent;\n",
              "      border-bottom-color: var(--fill-color);\n",
              "    }\n",
              "  }\n",
              "</style>\n",
              "\n",
              "  <script>\n",
              "    async function quickchart(key) {\n",
              "      const quickchartButtonEl =\n",
              "        document.querySelector('#' + key + ' button');\n",
              "      quickchartButtonEl.disabled = true;  // To prevent multiple clicks.\n",
              "      quickchartButtonEl.classList.add('colab-df-spinner');\n",
              "      try {\n",
              "        const charts = await google.colab.kernel.invokeFunction(\n",
              "            'suggestCharts', [key], {});\n",
              "      } catch (error) {\n",
              "        console.error('Error during call to suggestCharts:', error);\n",
              "      }\n",
              "      quickchartButtonEl.classList.remove('colab-df-spinner');\n",
              "      quickchartButtonEl.classList.add('colab-df-quickchart-complete');\n",
              "    }\n",
              "    (() => {\n",
              "      let quickchartButtonEl =\n",
              "        document.querySelector('#df-3cd957c3-006b-4fe8-986b-4cca3729d86f button');\n",
              "      quickchartButtonEl.style.display =\n",
              "        google.colab.kernel.accessAllowed ? 'block' : 'none';\n",
              "    })();\n",
              "  </script>\n",
              "</div>\n",
              "\n",
              "    </div>\n",
              "  </div>\n"
            ],
            "application/vnd.google.colaboratory.intrinsic+json": {
              "type": "dataframe",
              "variable_name": "df_filtered",
              "summary": "{\n  \"name\": \"df_filtered\",\n  \"rows\": 245,\n  \"fields\": [\n    {\n      \"column\": \"experience_level\",\n      \"properties\": {\n        \"dtype\": \"category\",\n        \"num_unique_values\": 4,\n        \"samples\": [\n          \"SE\",\n          \"MI\",\n          \"EN\"\n        ],\n        \"semantic_type\": \"\",\n        \"description\": \"\"\n      }\n    },\n    {\n      \"column\": \"employment_type\",\n      \"properties\": {\n        \"dtype\": \"category\",\n        \"num_unique_values\": 4,\n        \"samples\": [\n          \"PT\",\n          \"FL\",\n          \"FT\"\n        ],\n        \"semantic_type\": \"\",\n        \"description\": \"\"\n      }\n    },\n    {\n      \"column\": \"remote_ratio\",\n      \"properties\": {\n        \"dtype\": \"number\",\n        \"std\": 37,\n        \"min\": 0,\n        \"max\": 100,\n        \"num_unique_values\": 3,\n        \"samples\": [\n          50,\n          100,\n          0\n        ],\n        \"semantic_type\": \"\",\n        \"description\": \"\"\n      }\n    },\n    {\n      \"column\": \"company_size\",\n      \"properties\": {\n        \"dtype\": \"category\",\n        \"num_unique_values\": 3,\n        \"samples\": [\n          \"L\",\n          \"M\",\n          \"S\"\n        ],\n        \"semantic_type\": \"\",\n        \"description\": \"\"\n      }\n    },\n    {\n      \"column\": \"salary_in_usd\",\n      \"properties\": {\n        \"dtype\": \"number\",\n        \"std\": 83983,\n        \"min\": 2876,\n        \"max\": 600000,\n        \"num_unique_values\": 188,\n        \"samples\": [\n          423000,\n          18000,\n          50000\n        ],\n        \"semantic_type\": \"\",\n        \"description\": \"\"\n      }\n    }\n  ]\n}"
            }
          },
          "metadata": {},
          "execution_count": 51
        }
      ]
    },
    {
      "cell_type": "code",
      "source": [
        "import pandas as pd\n",
        "from sklearn.preprocessing import LabelEncoder\n",
        "label_encoder = LabelEncoder()\n",
        "# Apply LabelEncoder to each categorical column\n",
        "df_filtered['experience_level'] = label_encoder.fit_transform(df_filtered['experience_level'])\n",
        "df_filtered['employment_type'] = label_encoder.fit_transform(df_filtered['employment_type'])\n",
        "df_filtered['remote_ratio'] = label_encoder.fit_transform(df_filtered['remote_ratio'])\n",
        "df_filtered['company_size'] = label_encoder.fit_transform(df_filtered['company_size'])"
      ],
      "metadata": {
        "colab": {
          "base_uri": "https://localhost:8080/"
        },
        "id": "kLU0gPikj5Wd",
        "outputId": "df34394c-6dbd-4115-f36c-278794cb655c"
      },
      "execution_count": null,
      "outputs": [
        {
          "output_type": "stream",
          "name": "stderr",
          "text": [
            "<ipython-input-52-b39208251fb1>:5: SettingWithCopyWarning: \n",
            "A value is trying to be set on a copy of a slice from a DataFrame.\n",
            "Try using .loc[row_indexer,col_indexer] = value instead\n",
            "\n",
            "See the caveats in the documentation: https://pandas.pydata.org/pandas-docs/stable/user_guide/indexing.html#returning-a-view-versus-a-copy\n",
            "  df_filtered['experience_level'] = label_encoder.fit_transform(df_filtered['experience_level'])\n",
            "<ipython-input-52-b39208251fb1>:6: SettingWithCopyWarning: \n",
            "A value is trying to be set on a copy of a slice from a DataFrame.\n",
            "Try using .loc[row_indexer,col_indexer] = value instead\n",
            "\n",
            "See the caveats in the documentation: https://pandas.pydata.org/pandas-docs/stable/user_guide/indexing.html#returning-a-view-versus-a-copy\n",
            "  df_filtered['employment_type'] = label_encoder.fit_transform(df_filtered['employment_type'])\n",
            "<ipython-input-52-b39208251fb1>:7: SettingWithCopyWarning: \n",
            "A value is trying to be set on a copy of a slice from a DataFrame.\n",
            "Try using .loc[row_indexer,col_indexer] = value instead\n",
            "\n",
            "See the caveats in the documentation: https://pandas.pydata.org/pandas-docs/stable/user_guide/indexing.html#returning-a-view-versus-a-copy\n",
            "  df_filtered['remote_ratio'] = label_encoder.fit_transform(df_filtered['remote_ratio'])\n",
            "<ipython-input-52-b39208251fb1>:8: SettingWithCopyWarning: \n",
            "A value is trying to be set on a copy of a slice from a DataFrame.\n",
            "Try using .loc[row_indexer,col_indexer] = value instead\n",
            "\n",
            "See the caveats in the documentation: https://pandas.pydata.org/pandas-docs/stable/user_guide/indexing.html#returning-a-view-versus-a-copy\n",
            "  df_filtered['company_size'] = label_encoder.fit_transform(df_filtered['company_size'])\n"
          ]
        }
      ]
    },
    {
      "cell_type": "code",
      "source": [
        "df_filtered.head()"
      ],
      "metadata": {
        "colab": {
          "base_uri": "https://localhost:8080/",
          "height": 206
        },
        "id": "u9g5e00Nk9B4",
        "outputId": "ffcb7ba1-fe73-4013-ee63-0215acf59e0e"
      },
      "execution_count": null,
      "outputs": [
        {
          "output_type": "execute_result",
          "data": {
            "text/plain": [
              "   experience_level  employment_type  remote_ratio  company_size  \\\n",
              "0                 0                2             1             0   \n",
              "1                 3                2             2             0   \n",
              "2                 1                2             0             1   \n",
              "3                 1                2             1             0   \n",
              "4                 0                2             2             2   \n",
              "\n",
              "   salary_in_usd  \n",
              "0          64369  \n",
              "1          68428  \n",
              "2          85000  \n",
              "3         230000  \n",
              "4         125000  "
            ],
            "text/html": [
              "\n",
              "  <div id=\"df-4ef5d759-d707-4753-be26-3db0a971faf3\" class=\"colab-df-container\">\n",
              "    <div>\n",
              "<style scoped>\n",
              "    .dataframe tbody tr th:only-of-type {\n",
              "        vertical-align: middle;\n",
              "    }\n",
              "\n",
              "    .dataframe tbody tr th {\n",
              "        vertical-align: top;\n",
              "    }\n",
              "\n",
              "    .dataframe thead th {\n",
              "        text-align: right;\n",
              "    }\n",
              "</style>\n",
              "<table border=\"1\" class=\"dataframe\">\n",
              "  <thead>\n",
              "    <tr style=\"text-align: right;\">\n",
              "      <th></th>\n",
              "      <th>experience_level</th>\n",
              "      <th>employment_type</th>\n",
              "      <th>remote_ratio</th>\n",
              "      <th>company_size</th>\n",
              "      <th>salary_in_usd</th>\n",
              "    </tr>\n",
              "  </thead>\n",
              "  <tbody>\n",
              "    <tr>\n",
              "      <th>0</th>\n",
              "      <td>0</td>\n",
              "      <td>2</td>\n",
              "      <td>1</td>\n",
              "      <td>0</td>\n",
              "      <td>64369</td>\n",
              "    </tr>\n",
              "    <tr>\n",
              "      <th>1</th>\n",
              "      <td>3</td>\n",
              "      <td>2</td>\n",
              "      <td>2</td>\n",
              "      <td>0</td>\n",
              "      <td>68428</td>\n",
              "    </tr>\n",
              "    <tr>\n",
              "      <th>2</th>\n",
              "      <td>1</td>\n",
              "      <td>2</td>\n",
              "      <td>0</td>\n",
              "      <td>1</td>\n",
              "      <td>85000</td>\n",
              "    </tr>\n",
              "    <tr>\n",
              "      <th>3</th>\n",
              "      <td>1</td>\n",
              "      <td>2</td>\n",
              "      <td>1</td>\n",
              "      <td>0</td>\n",
              "      <td>230000</td>\n",
              "    </tr>\n",
              "    <tr>\n",
              "      <th>4</th>\n",
              "      <td>0</td>\n",
              "      <td>2</td>\n",
              "      <td>2</td>\n",
              "      <td>2</td>\n",
              "      <td>125000</td>\n",
              "    </tr>\n",
              "  </tbody>\n",
              "</table>\n",
              "</div>\n",
              "    <div class=\"colab-df-buttons\">\n",
              "\n",
              "  <div class=\"colab-df-container\">\n",
              "    <button class=\"colab-df-convert\" onclick=\"convertToInteractive('df-4ef5d759-d707-4753-be26-3db0a971faf3')\"\n",
              "            title=\"Convert this dataframe to an interactive table.\"\n",
              "            style=\"display:none;\">\n",
              "\n",
              "  <svg xmlns=\"http://www.w3.org/2000/svg\" height=\"24px\" viewBox=\"0 -960 960 960\">\n",
              "    <path d=\"M120-120v-720h720v720H120Zm60-500h600v-160H180v160Zm220 220h160v-160H400v160Zm0 220h160v-160H400v160ZM180-400h160v-160H180v160Zm440 0h160v-160H620v160ZM180-180h160v-160H180v160Zm440 0h160v-160H620v160Z\"/>\n",
              "  </svg>\n",
              "    </button>\n",
              "\n",
              "  <style>\n",
              "    .colab-df-container {\n",
              "      display:flex;\n",
              "      gap: 12px;\n",
              "    }\n",
              "\n",
              "    .colab-df-convert {\n",
              "      background-color: #E8F0FE;\n",
              "      border: none;\n",
              "      border-radius: 50%;\n",
              "      cursor: pointer;\n",
              "      display: none;\n",
              "      fill: #1967D2;\n",
              "      height: 32px;\n",
              "      padding: 0 0 0 0;\n",
              "      width: 32px;\n",
              "    }\n",
              "\n",
              "    .colab-df-convert:hover {\n",
              "      background-color: #E2EBFA;\n",
              "      box-shadow: 0px 1px 2px rgba(60, 64, 67, 0.3), 0px 1px 3px 1px rgba(60, 64, 67, 0.15);\n",
              "      fill: #174EA6;\n",
              "    }\n",
              "\n",
              "    .colab-df-buttons div {\n",
              "      margin-bottom: 4px;\n",
              "    }\n",
              "\n",
              "    [theme=dark] .colab-df-convert {\n",
              "      background-color: #3B4455;\n",
              "      fill: #D2E3FC;\n",
              "    }\n",
              "\n",
              "    [theme=dark] .colab-df-convert:hover {\n",
              "      background-color: #434B5C;\n",
              "      box-shadow: 0px 1px 3px 1px rgba(0, 0, 0, 0.15);\n",
              "      filter: drop-shadow(0px 1px 2px rgba(0, 0, 0, 0.3));\n",
              "      fill: #FFFFFF;\n",
              "    }\n",
              "  </style>\n",
              "\n",
              "    <script>\n",
              "      const buttonEl =\n",
              "        document.querySelector('#df-4ef5d759-d707-4753-be26-3db0a971faf3 button.colab-df-convert');\n",
              "      buttonEl.style.display =\n",
              "        google.colab.kernel.accessAllowed ? 'block' : 'none';\n",
              "\n",
              "      async function convertToInteractive(key) {\n",
              "        const element = document.querySelector('#df-4ef5d759-d707-4753-be26-3db0a971faf3');\n",
              "        const dataTable =\n",
              "          await google.colab.kernel.invokeFunction('convertToInteractive',\n",
              "                                                    [key], {});\n",
              "        if (!dataTable) return;\n",
              "\n",
              "        const docLinkHtml = 'Like what you see? Visit the ' +\n",
              "          '<a target=\"_blank\" href=https://colab.research.google.com/notebooks/data_table.ipynb>data table notebook</a>'\n",
              "          + ' to learn more about interactive tables.';\n",
              "        element.innerHTML = '';\n",
              "        dataTable['output_type'] = 'display_data';\n",
              "        await google.colab.output.renderOutput(dataTable, element);\n",
              "        const docLink = document.createElement('div');\n",
              "        docLink.innerHTML = docLinkHtml;\n",
              "        element.appendChild(docLink);\n",
              "      }\n",
              "    </script>\n",
              "  </div>\n",
              "\n",
              "\n",
              "<div id=\"df-752c5843-1ac2-4661-8f6a-1d4daffbea26\">\n",
              "  <button class=\"colab-df-quickchart\" onclick=\"quickchart('df-752c5843-1ac2-4661-8f6a-1d4daffbea26')\"\n",
              "            title=\"Suggest charts\"\n",
              "            style=\"display:none;\">\n",
              "\n",
              "<svg xmlns=\"http://www.w3.org/2000/svg\" height=\"24px\"viewBox=\"0 0 24 24\"\n",
              "     width=\"24px\">\n",
              "    <g>\n",
              "        <path d=\"M19 3H5c-1.1 0-2 .9-2 2v14c0 1.1.9 2 2 2h14c1.1 0 2-.9 2-2V5c0-1.1-.9-2-2-2zM9 17H7v-7h2v7zm4 0h-2V7h2v10zm4 0h-2v-4h2v4z\"/>\n",
              "    </g>\n",
              "</svg>\n",
              "  </button>\n",
              "\n",
              "<style>\n",
              "  .colab-df-quickchart {\n",
              "      --bg-color: #E8F0FE;\n",
              "      --fill-color: #1967D2;\n",
              "      --hover-bg-color: #E2EBFA;\n",
              "      --hover-fill-color: #174EA6;\n",
              "      --disabled-fill-color: #AAA;\n",
              "      --disabled-bg-color: #DDD;\n",
              "  }\n",
              "\n",
              "  [theme=dark] .colab-df-quickchart {\n",
              "      --bg-color: #3B4455;\n",
              "      --fill-color: #D2E3FC;\n",
              "      --hover-bg-color: #434B5C;\n",
              "      --hover-fill-color: #FFFFFF;\n",
              "      --disabled-bg-color: #3B4455;\n",
              "      --disabled-fill-color: #666;\n",
              "  }\n",
              "\n",
              "  .colab-df-quickchart {\n",
              "    background-color: var(--bg-color);\n",
              "    border: none;\n",
              "    border-radius: 50%;\n",
              "    cursor: pointer;\n",
              "    display: none;\n",
              "    fill: var(--fill-color);\n",
              "    height: 32px;\n",
              "    padding: 0;\n",
              "    width: 32px;\n",
              "  }\n",
              "\n",
              "  .colab-df-quickchart:hover {\n",
              "    background-color: var(--hover-bg-color);\n",
              "    box-shadow: 0 1px 2px rgba(60, 64, 67, 0.3), 0 1px 3px 1px rgba(60, 64, 67, 0.15);\n",
              "    fill: var(--button-hover-fill-color);\n",
              "  }\n",
              "\n",
              "  .colab-df-quickchart-complete:disabled,\n",
              "  .colab-df-quickchart-complete:disabled:hover {\n",
              "    background-color: var(--disabled-bg-color);\n",
              "    fill: var(--disabled-fill-color);\n",
              "    box-shadow: none;\n",
              "  }\n",
              "\n",
              "  .colab-df-spinner {\n",
              "    border: 2px solid var(--fill-color);\n",
              "    border-color: transparent;\n",
              "    border-bottom-color: var(--fill-color);\n",
              "    animation:\n",
              "      spin 1s steps(1) infinite;\n",
              "  }\n",
              "\n",
              "  @keyframes spin {\n",
              "    0% {\n",
              "      border-color: transparent;\n",
              "      border-bottom-color: var(--fill-color);\n",
              "      border-left-color: var(--fill-color);\n",
              "    }\n",
              "    20% {\n",
              "      border-color: transparent;\n",
              "      border-left-color: var(--fill-color);\n",
              "      border-top-color: var(--fill-color);\n",
              "    }\n",
              "    30% {\n",
              "      border-color: transparent;\n",
              "      border-left-color: var(--fill-color);\n",
              "      border-top-color: var(--fill-color);\n",
              "      border-right-color: var(--fill-color);\n",
              "    }\n",
              "    40% {\n",
              "      border-color: transparent;\n",
              "      border-right-color: var(--fill-color);\n",
              "      border-top-color: var(--fill-color);\n",
              "    }\n",
              "    60% {\n",
              "      border-color: transparent;\n",
              "      border-right-color: var(--fill-color);\n",
              "    }\n",
              "    80% {\n",
              "      border-color: transparent;\n",
              "      border-right-color: var(--fill-color);\n",
              "      border-bottom-color: var(--fill-color);\n",
              "    }\n",
              "    90% {\n",
              "      border-color: transparent;\n",
              "      border-bottom-color: var(--fill-color);\n",
              "    }\n",
              "  }\n",
              "</style>\n",
              "\n",
              "  <script>\n",
              "    async function quickchart(key) {\n",
              "      const quickchartButtonEl =\n",
              "        document.querySelector('#' + key + ' button');\n",
              "      quickchartButtonEl.disabled = true;  // To prevent multiple clicks.\n",
              "      quickchartButtonEl.classList.add('colab-df-spinner');\n",
              "      try {\n",
              "        const charts = await google.colab.kernel.invokeFunction(\n",
              "            'suggestCharts', [key], {});\n",
              "      } catch (error) {\n",
              "        console.error('Error during call to suggestCharts:', error);\n",
              "      }\n",
              "      quickchartButtonEl.classList.remove('colab-df-spinner');\n",
              "      quickchartButtonEl.classList.add('colab-df-quickchart-complete');\n",
              "    }\n",
              "    (() => {\n",
              "      let quickchartButtonEl =\n",
              "        document.querySelector('#df-752c5843-1ac2-4661-8f6a-1d4daffbea26 button');\n",
              "      quickchartButtonEl.style.display =\n",
              "        google.colab.kernel.accessAllowed ? 'block' : 'none';\n",
              "    })();\n",
              "  </script>\n",
              "</div>\n",
              "\n",
              "    </div>\n",
              "  </div>\n"
            ],
            "application/vnd.google.colaboratory.intrinsic+json": {
              "type": "dataframe",
              "variable_name": "df_filtered",
              "summary": "{\n  \"name\": \"df_filtered\",\n  \"rows\": 245,\n  \"fields\": [\n    {\n      \"column\": \"experience_level\",\n      \"properties\": {\n        \"dtype\": \"number\",\n        \"std\": 1,\n        \"min\": 0,\n        \"max\": 3,\n        \"num_unique_values\": 4,\n        \"samples\": [\n          3,\n          2,\n          0\n        ],\n        \"semantic_type\": \"\",\n        \"description\": \"\"\n      }\n    },\n    {\n      \"column\": \"employment_type\",\n      \"properties\": {\n        \"dtype\": \"number\",\n        \"std\": 0,\n        \"min\": 0,\n        \"max\": 3,\n        \"num_unique_values\": 4,\n        \"samples\": [\n          3,\n          1,\n          2\n        ],\n        \"semantic_type\": \"\",\n        \"description\": \"\"\n      }\n    },\n    {\n      \"column\": \"remote_ratio\",\n      \"properties\": {\n        \"dtype\": \"number\",\n        \"std\": 0,\n        \"min\": 0,\n        \"max\": 2,\n        \"num_unique_values\": 3,\n        \"samples\": [\n          1,\n          2,\n          0\n        ],\n        \"semantic_type\": \"\",\n        \"description\": \"\"\n      }\n    },\n    {\n      \"column\": \"company_size\",\n      \"properties\": {\n        \"dtype\": \"number\",\n        \"std\": 0,\n        \"min\": 0,\n        \"max\": 2,\n        \"num_unique_values\": 3,\n        \"samples\": [\n          0,\n          1,\n          2\n        ],\n        \"semantic_type\": \"\",\n        \"description\": \"\"\n      }\n    },\n    {\n      \"column\": \"salary_in_usd\",\n      \"properties\": {\n        \"dtype\": \"number\",\n        \"std\": 83983,\n        \"min\": 2876,\n        \"max\": 600000,\n        \"num_unique_values\": 188,\n        \"samples\": [\n          423000,\n          18000,\n          50000\n        ],\n        \"semantic_type\": \"\",\n        \"description\": \"\"\n      }\n    }\n  ]\n}"
            }
          },
          "metadata": {},
          "execution_count": 53
        }
      ]
    },
    {
      "cell_type": "markdown",
      "source": [
        "Introducing the Mean Squared Error Loss\n",
        "\n",
        "\n",
        "\n",
        "\n"
      ],
      "metadata": {
        "id": "IJRDjO8shwPf"
      }
    },
    {
      "cell_type": "code",
      "source": [
        "def mean_squared_loss(prediction,target):\n",
        "  return np.mean((prediction-target)**2)\n",
        "\n",
        "# in PyTorch\n",
        "criterion=nn.MSELoss()\n",
        "loss=criterion(prediction,target)"
      ],
      "metadata": {
        "colab": {
          "base_uri": "https://localhost:8080/"
        },
        "id": "dCtZKGk6f0Mp",
        "outputId": "8d306c17-5a3b-4476-a8a3-449379d9869d"
      },
      "execution_count": null,
      "outputs": [
        {
          "output_type": "stream",
          "name": "stderr",
          "text": [
            "/usr/local/lib/python3.10/dist-packages/torch/nn/modules/loss.py:608: UserWarning: Using a target size (torch.Size([1])) that is different to the input size (torch.Size([1, 2])). This will likely lead to incorrect results due to broadcasting. Please ensure they have the same size.\n",
            "  return F.mse_loss(input, target, reduction=self.reduction)\n"
          ]
        }
      ]
    },
    {
      "cell_type": "markdown",
      "source": [
        "Before the training loop\n"
      ],
      "metadata": {
        "id": "sWoG6QrhrFpI"
      }
    },
    {
      "cell_type": "code",
      "source": [
        "import torch\n",
        "from torch.utils.data import TensorDataset, DataLoader\n",
        "features= df_filtered[['experience_level', 'employment_type', 'remote_ratio', 'company_size']]\n",
        "target=df_filtered[['salary_in_usd']]\n",
        "# Convert the features and target to NumPy arrays and then to PyTorch tensors\n",
        "features_tensor = torch.tensor(features.values, dtype=torch.float32)  # Convert to NumPy array first\n",
        "target_tensor = torch.tensor(target.values, dtype=torch.float32)\n",
        "# Create the dataset and the dataloader\n",
        "dataset = TensorDataset(features_tensor, target_tensor)\n",
        "dataloader=DataLoader(dataset,batch_size=4,shuffle=True)\n",
        "\n",
        "#create the model\n",
        "model=nn.Sequential(nn.Linear(4,2),\n",
        "                    nn.Linear(2,1))\n",
        "# create the loss and the optimizer\n",
        "criterion= nn.MSELoss()\n",
        "optimzer=optim.SGD(model.parameters(),lr=0.001)"
      ],
      "metadata": {
        "id": "AzB9BqXHrIGw"
      },
      "execution_count": null,
      "outputs": []
    },
    {
      "cell_type": "markdown",
      "source": [
        "The training loop"
      ],
      "metadata": {
        "id": "Btjfuyq_tRqN"
      }
    },
    {
      "cell_type": "code",
      "source": [
        "num_epochs=5\n",
        "#Loop throught the dataset multiple times\n",
        "for epoch in range(num_epochs):\n",
        "  for data in dataloader:\n",
        "    #set the gradients to zero\n",
        "    optimizer.zero_grad()\n",
        "    #get the feature and target from the data loader\n",
        "    features_tensor,target_tensor= data\n",
        "    # Run a forward pass\n",
        "    pred= model(features_tensor)\n",
        "    #compute loss and gradients\n",
        "    loss=criterion(pred,target_tensor)\n",
        "    loss.backward()\n",
        "    #update the paramers\n",
        "    optimizer.step()"
      ],
      "metadata": {
        "id": "PhibmgfXr5fQ"
      },
      "execution_count": null,
      "outputs": []
    },
    {
      "cell_type": "markdown",
      "source": [
        "# Unit Three: Discovering activation functions between layers\n",
        "Sigmoid functions:\n",
        "\n",
        "\n",
        "*   Bounded between 0 and 1\n",
        "*   Can be used anywhere in the network\n",
        " Gradients:\n",
        "\n",
        "\n",
        "*   Approach to zero for low and high value of x\n",
        "*   Cause function to saturate\n",
        "\n",
        "Sigmoid function saturation can lead to vanishing gradients during backporpagation\n",
        "Same for softmax\n",
        "\n",
        "\n",
        "\n",
        "\n"
      ],
      "metadata": {
        "id": "808WSjGJvFus"
      }
    },
    {
      "cell_type": "code",
      "source": [
        "relu=nn.ReLU()\n",
        "leaky_relu=nn.LeakyReLU(negative_slope=0.05)\n"
      ],
      "metadata": {
        "id": "oF5O3UbBu1Ia"
      },
      "execution_count": null,
      "outputs": []
    },
    {
      "cell_type": "markdown",
      "source": [
        "A deeper dive into NN architectutre"
      ],
      "metadata": {
        "id": "vqQSc544zisE"
      }
    },
    {
      "cell_type": "markdown",
      "source": [
        "Coutning the number of parameters\n"
      ],
      "metadata": {
        "id": "0SbjnrbZzrL1"
      }
    },
    {
      "cell_type": "code",
      "source": [
        "model=nn.Sequential(\n",
        "    nn.Linear(8,4),\n",
        "    nn.Linear (4,2)\n",
        ")\n",
        "\n"
      ],
      "metadata": {
        "id": "UDYkq1Wjx0Kl"
      },
      "execution_count": null,
      "outputs": []
    },
    {
      "cell_type": "markdown",
      "source": [
        "manually calculating the number of parameters:\n",
        "\n",
        "\n",
        "*   first layers has 4 neurons, each neuron has (N+1),where N is dimension of previous layers outputs. So each neuron  8+1=9, total 4*9=36 parameters\n",
        "*   second layer 2*(4+1)=10 parameters\n",
        "* Total= 46 learnable parameters\n",
        "\n"
      ],
      "metadata": {
        "id": "UMZvcHlRz8N3"
      }
    },
    {
      "cell_type": "markdown",
      "source": [
        "using PyTorch:\n",
        "\n",
        "\n",
        "*   .numel(): returns the number of elements in the tensor\n",
        "\n",
        "\n"
      ],
      "metadata": {
        "id": "FNALESwa0j7N"
      }
    },
    {
      "cell_type": "code",
      "source": [
        "total=0\n",
        "for parameters in model.parameters():\n",
        "  total+=parameters.numel()\n",
        "print(total)"
      ],
      "metadata": {
        "colab": {
          "base_uri": "https://localhost:8080/"
        },
        "id": "Pq3f-2jg0vXX",
        "outputId": "685fc565-b274-4a0e-a6e2-1fed9a5b3c81"
      },
      "execution_count": null,
      "outputs": [
        {
          "output_type": "stream",
          "name": "stdout",
          "text": [
            "46\n"
          ]
        }
      ]
    },
    {
      "cell_type": "markdown",
      "source": [
        "Layer initialization and transfer learning"
      ],
      "metadata": {
        "id": "IH7XSrWv3_YF"
      }
    },
    {
      "cell_type": "code",
      "source": [
        "import torch.nn as nn\n",
        "layer=nn.Linear(64,128)\n",
        "print(layer.weight.min(),layer.weight.max())"
      ],
      "metadata": {
        "colab": {
          "base_uri": "https://localhost:8080/"
        },
        "id": "Pd390a1304_Y",
        "outputId": "6859731d-5a6a-43ec-efef-d476b7cdfe18"
      },
      "execution_count": null,
      "outputs": [
        {
          "output_type": "stream",
          "name": "stdout",
          "text": [
            "tensor(-0.1249, grad_fn=<MinBackward1>) tensor(0.1249, grad_fn=<MaxBackward1>)\n"
          ]
        }
      ]
    },
    {
      "cell_type": "markdown",
      "source": [
        "* layer weights are initialized to small values\n",
        "* layer outputs can explode if inputs and weights are not normalized\n",
        "* weights can be initialized using different methods(e.g., with a uniform distribution)\n"
      ],
      "metadata": {
        "id": "JbNY1jjF4dgj"
      }
    },
    {
      "cell_type": "code",
      "source": [
        "import torch.nn as nn\n",
        "layer=nn.Linear(64,128)\n",
        "nn.init.uniform_(layer.weight)\n",
        "print(custom_layer.fc)"
      ],
      "metadata": {
        "id": "GY5R7BY84cVK",
        "colab": {
          "base_uri": "https://localhost:8080/",
          "height": 176
        },
        "outputId": "8d6650e8-a13b-4392-e10f-8fcdbc7ce8bc"
      },
      "execution_count": null,
      "outputs": [
        {
          "output_type": "error",
          "ename": "NameError",
          "evalue": "name 'custom_layer' is not defined",
          "traceback": [
            "\u001b[0;31m---------------------------------------------------------------------------\u001b[0m",
            "\u001b[0;31mNameError\u001b[0m                                 Traceback (most recent call last)",
            "\u001b[0;32m<ipython-input-1-37860723ca45>\u001b[0m in \u001b[0;36m<cell line: 4>\u001b[0;34m()\u001b[0m\n\u001b[1;32m      2\u001b[0m \u001b[0mlayer\u001b[0m\u001b[0;34m=\u001b[0m\u001b[0mnn\u001b[0m\u001b[0;34m.\u001b[0m\u001b[0mLinear\u001b[0m\u001b[0;34m(\u001b[0m\u001b[0;36m64\u001b[0m\u001b[0;34m,\u001b[0m\u001b[0;36m128\u001b[0m\u001b[0;34m)\u001b[0m\u001b[0;34m\u001b[0m\u001b[0;34m\u001b[0m\u001b[0m\n\u001b[1;32m      3\u001b[0m \u001b[0mnn\u001b[0m\u001b[0;34m.\u001b[0m\u001b[0minit\u001b[0m\u001b[0;34m.\u001b[0m\u001b[0muniform_\u001b[0m\u001b[0;34m(\u001b[0m\u001b[0mlayer\u001b[0m\u001b[0;34m.\u001b[0m\u001b[0mweight\u001b[0m\u001b[0;34m)\u001b[0m\u001b[0;34m\u001b[0m\u001b[0;34m\u001b[0m\u001b[0m\n\u001b[0;32m----> 4\u001b[0;31m \u001b[0mprint\u001b[0m\u001b[0;34m(\u001b[0m\u001b[0mcustom_layer\u001b[0m\u001b[0;34m.\u001b[0m\u001b[0mfc\u001b[0m\u001b[0;34m)\u001b[0m\u001b[0;34m\u001b[0m\u001b[0;34m\u001b[0m\u001b[0m\n\u001b[0m",
            "\u001b[0;31mNameError\u001b[0m: name 'custom_layer' is not defined"
          ]
        }
      ]
    },
    {
      "cell_type": "markdown",
      "source": [
        "Tranfer learning nad fine-tuning\n"
      ],
      "metadata": {
        "id": "Gm3ti9M9EnVF"
      }
    },
    {
      "cell_type": "code",
      "source": [
        "import torch\n",
        "layer=nn.Linear(64,128)\n",
        "torch.save(layer,'layer.pth')\n",
        "new_layer=torch.load('layer.pth')"
      ],
      "metadata": {
        "colab": {
          "base_uri": "https://localhost:8080/"
        },
        "id": "kQf8KoHYEsR_",
        "outputId": "0f11b278-8e54-4fd3-9950-04b7762b0e09"
      },
      "execution_count": null,
      "outputs": [
        {
          "output_type": "stream",
          "name": "stderr",
          "text": [
            "<ipython-input-2-695a1186e317>:4: FutureWarning: You are using `torch.load` with `weights_only=False` (the current default value), which uses the default pickle module implicitly. It is possible to construct malicious pickle data which will execute arbitrary code during unpickling (See https://github.com/pytorch/pytorch/blob/main/SECURITY.md#untrusted-models for more details). In a future release, the default value for `weights_only` will be flipped to `True`. This limits the functions that could be executed during unpickling. Arbitrary objects will no longer be allowed to be loaded via this mode unless they are explicitly allowlisted by the user via `torch.serialization.add_safe_globals`. We recommend you start setting `weights_only=True` for any use case where you don't have full control of the loaded file. Please open an issue on GitHub for any issues related to this experimental feature.\n",
            "  new_layer=torch.load('layer.pth')\n"
          ]
        }
      ]
    },
    {
      "cell_type": "markdown",
      "source": [
        "Fine tuning\n",
        "\n",
        "\n",
        "*   Fine-tuning= A type of transfer learning\n",
        "*   Smaller learning rate\n",
        "*   Not every layer is trained (we freeze some of them)\n",
        "*   Rule of thumb: freeze early layers of network and fine-tune layers closer to output layer\n",
        "\n"
      ],
      "metadata": {
        "id": "Bmex4HYVFnND"
      }
    },
    {
      "cell_type": "code",
      "source": [
        "import torch.nn as nn\n",
        "model=nn.Sequential(nn.Linear(64,128),\n",
        "                    nn.Linear(128,256))\n",
        "for name,param in model.named_parameters():\n",
        "  if name== '0.weight':\n",
        "    param.requires_grad=False"
      ],
      "metadata": {
        "id": "0fxbVRk7FBXa"
      },
      "execution_count": null,
      "outputs": []
    },
    {
      "cell_type": "markdown",
      "source": [
        "#Unit Four"
      ],
      "metadata": {
        "id": "3STPAKfzHXgs"
      }
    },
    {
      "cell_type": "markdown",
      "source": [
        "A deeper dive into loading data"
      ],
      "metadata": {
        "id": "nuTX2lSIHdmU"
      }
    },
    {
      "cell_type": "code",
      "source": [
        "import pandas as pd\n",
        "animals=pd.read_csv('zoo.csv')"
      ],
      "metadata": {
        "id": "7Fn-i4OvGpe6"
      },
      "execution_count": null,
      "outputs": []
    },
    {
      "cell_type": "markdown",
      "source": [
        "Defining features"
      ],
      "metadata": {
        "id": "NwkYLqQUKM5j"
      }
    },
    {
      "cell_type": "code",
      "source": [
        "import numpy as np\n",
        "\n",
        "features = animals.iloc[:, 1:-1]\n",
        "X = np.array(features).astype(float)  # Convert to float type\n",
        "\n",
        "print(X)"
      ],
      "metadata": {
        "colab": {
          "base_uri": "https://localhost:8080/"
        },
        "id": "gNHtMWxpJnM4",
        "outputId": "893a7612-901c-4bfb-9de3-2cffa989f255"
      },
      "execution_count": null,
      "outputs": [
        {
          "output_type": "stream",
          "name": "stdout",
          "text": [
            "[[1. 0. 0. ... 0. 0. 1.]\n",
            " [1. 0. 0. ... 1. 0. 1.]\n",
            " [0. 0. 1. ... 1. 0. 0.]\n",
            " ...\n",
            " [1. 0. 0. ... 1. 0. 1.]\n",
            " [0. 0. 1. ... 0. 0. 0.]\n",
            " [0. 1. 1. ... 1. 0. 0.]]\n"
          ]
        }
      ]
    },
    {
      "cell_type": "markdown",
      "source": [
        "defining targets"
      ],
      "metadata": {
        "id": "djmM34OCLgWc"
      }
    },
    {
      "cell_type": "code",
      "source": [
        "target = animals.iloc[:, -1]\n",
        "y = np.array(target)\n",
        "print(y)"
      ],
      "metadata": {
        "colab": {
          "base_uri": "https://localhost:8080/"
        },
        "id": "TeQrz6X3Klew",
        "outputId": "3567c41c-663a-4475-838a-2ced22df4a38"
      },
      "execution_count": null,
      "outputs": [
        {
          "output_type": "stream",
          "name": "stdout",
          "text": [
            "[1 1 4 1 1 1 1 4 4 1 1 2 4 7 7 7 2 1 4 1 2 2 1 2 6 5 5 1 1 1 6 1 1 2 4 1 1\n",
            " 2 4 6 6 2 6 2 1 1 7 1 1 1 1 6 5 7 1 1 2 2 2 2 4 4 3 1 1 1 1 1 1 1 1 2 7 4\n",
            " 1 1 3 7 2 2 3 7 4 2 1 7 4 2 6 5 3 3 4 1 1 2 1 6 1 7 2]\n"
          ]
        }
      ]
    },
    {
      "cell_type": "markdown",
      "source": [
        "Recalling TensorDataset"
      ],
      "metadata": {
        "id": "LQzcj2K9MiUs"
      }
    },
    {
      "cell_type": "code",
      "source": [
        "import torch\n",
        "from torch.utils.data import TensorDataset\n",
        "#instantiate dataset class\n",
        "dataset=TensorDataset(torch.tensor(X).float(),torch.tensor(y).float())\n",
        "#Access an individual sample\n",
        "sample=dataset[0]\n",
        "feature,label=sample\n",
        "print(\"feature\",feature)\n",
        "print(\"label\",label)"
      ],
      "metadata": {
        "colab": {
          "base_uri": "https://localhost:8080/"
        },
        "id": "KbGm8gC_LySo",
        "outputId": "45a00e8a-0109-4baf-8414-0a2ff504d3b3"
      },
      "execution_count": null,
      "outputs": [
        {
          "output_type": "stream",
          "name": "stdout",
          "text": [
            "feature tensor([1., 0., 0., 1., 0., 0., 1., 1., 1., 1., 0., 0., 4., 0., 0., 1.])\n",
            "label tensor(1.)\n"
          ]
        }
      ]
    },
    {
      "cell_type": "markdown",
      "source": [
        "Recalling DataLoader"
      ],
      "metadata": {
        "id": "Xq93YDUaNfc5"
      }
    },
    {
      "cell_type": "code",
      "source": [
        "from torch.utils.data import DataLoader\n",
        "batch_size=2\n",
        "shuffle=True\n",
        "#Create a DataLoader\n",
        "dataloader= DataLoader(dataset,batch_size=batch_size,shuffle=shuffle)\n",
        "#Iterate over the DataLoader\n",
        "for batch_inputs, batch_labels in dataloader:\n",
        "  print('batch inputs:', batch_inputs)\n",
        "  print('batch lables:', batch_labels)"
      ],
      "metadata": {
        "colab": {
          "base_uri": "https://localhost:8080/"
        },
        "id": "WdqaW1WZNAgf",
        "outputId": "c0acf0d6-6afb-4e07-da82-eda6086e9ddc"
      },
      "execution_count": null,
      "outputs": [
        {
          "output_type": "stream",
          "name": "stdout",
          "text": [
            "batch inputs: tensor([[0., 0., 1., 0., 0., 1., 1., 1., 1., 0., 0., 1., 0., 1., 0., 1.],\n",
            "        [1., 0., 0., 1., 0., 0., 0., 1., 1., 1., 0., 0., 2., 1., 0., 0.]])\n",
            "batch lables: tensor([4., 1.])\n",
            "batch inputs: tensor([[0., 0., 1., 0., 0., 1., 1., 1., 1., 1., 1., 0., 4., 0., 0., 0.],\n",
            "        [1., 0., 0., 1., 0., 0., 0., 1., 1., 1., 0., 0., 4., 1., 1., 1.]])\n",
            "batch lables: tensor([5., 1.])\n",
            "batch inputs: tensor([[1., 0., 0., 1., 0., 0., 1., 1., 1., 1., 0., 0., 4., 1., 0., 0.],\n",
            "        [1., 0., 0., 1., 1., 0., 0., 1., 1., 1., 0., 0., 2., 1., 0., 0.]])\n",
            "batch lables: tensor([1., 1.])\n",
            "batch inputs: tensor([[1., 0., 0., 1., 0., 0., 1., 1., 1., 1., 0., 0., 4., 1., 0., 0.],\n",
            "        [0., 1., 1., 0., 1., 0., 0., 0., 1., 1., 0., 0., 2., 1., 1., 0.]])\n",
            "batch lables: tensor([1., 2.])\n",
            "batch inputs: tensor([[0., 1., 1., 0., 0., 0., 1., 0., 1., 1., 0., 0., 2., 1., 0., 0.],\n",
            "        [0., 0., 1., 0., 0., 1., 1., 1., 1., 1., 0., 0., 4., 0., 0., 0.]])\n",
            "batch lables: tensor([2., 5.])\n",
            "batch inputs: tensor([[0., 1., 1., 0., 1., 1., 0., 0., 1., 1., 0., 0., 2., 1., 0., 0.],\n",
            "        [0., 1., 1., 0., 1., 0., 0., 0., 1., 1., 0., 0., 2., 1., 0., 0.]])\n",
            "batch lables: tensor([2., 2.])\n",
            "batch inputs: tensor([[0., 1., 1., 0., 0., 0., 0., 0., 1., 1., 0., 0., 2., 1., 0., 1.],\n",
            "        [1., 0., 0., 1., 0., 0., 0., 1., 1., 1., 0., 0., 4., 1., 1., 1.]])\n",
            "batch lables: tensor([2., 1.])\n",
            "batch inputs: tensor([[1., 0., 0., 1., 0., 0., 1., 1., 1., 1., 0., 0., 4., 1., 0., 1.],\n",
            "        [1., 0., 0., 1., 0., 0., 0., 1., 1., 1., 0., 0., 2., 1., 0., 1.]])\n",
            "batch lables: tensor([1., 1.])\n",
            "batch inputs: tensor([[1., 0., 0., 1., 0., 0., 1., 1., 1., 1., 0., 0., 4., 0., 0., 1.],\n",
            "        [0., 1., 1., 0., 1., 0., 0., 0., 1., 1., 0., 0., 2., 1., 0., 0.]])\n",
            "batch lables: tensor([1., 2.])\n",
            "batch inputs: tensor([[0., 0., 1., 0., 0., 0., 1., 0., 0., 0., 0., 0., 0., 0., 0., 0.],\n",
            "        [0., 1., 1., 0., 1., 0., 0., 0., 1., 1., 0., 0., 2., 1., 1., 0.]])\n",
            "batch lables: tensor([7., 2.])\n",
            "batch inputs: tensor([[1., 0., 0., 1., 0., 0., 0., 1., 1., 1., 0., 0., 4., 1., 0., 0.],\n",
            "        [0., 0., 1., 0., 0., 0., 0., 0., 1., 1., 0., 0., 4., 1., 0., 1.]])\n",
            "batch lables: tensor([1., 3.])\n",
            "batch inputs: tensor([[1., 0., 0., 1., 0., 0., 1., 1., 1., 1., 0., 0., 4., 1., 0., 1.],\n",
            "        [0., 1., 1., 0., 1., 0., 1., 0., 1., 1., 0., 0., 2., 1., 0., 0.]])\n",
            "batch lables: tensor([1., 2.])\n",
            "batch inputs: tensor([[0., 1., 1., 0., 1., 0., 0., 0., 1., 1., 0., 0., 2., 1., 0., 1.],\n",
            "        [0., 0., 1., 0., 0., 0., 0., 0., 0., 1., 0., 0., 0., 0., 0., 0.]])\n",
            "batch lables: tensor([2., 7.])\n",
            "batch inputs: tensor([[0., 0., 1., 0., 0., 1., 1., 0., 0., 0., 0., 0., 5., 0., 0., 0.],\n",
            "        [1., 0., 0., 1., 0., 0., 0., 1., 1., 1., 0., 0., 4., 1., 0., 0.]])\n",
            "batch lables: tensor([7., 1.])\n",
            "batch inputs: tensor([[0., 1., 1., 0., 1., 0., 1., 0., 1., 1., 0., 0., 2., 1., 0., 1.],\n",
            "        [0., 0., 1., 0., 0., 0., 0., 0., 0., 1., 0., 0., 6., 0., 0., 0.]])\n",
            "batch lables: tensor([2., 6.])\n",
            "batch inputs: tensor([[0., 0., 1., 0., 0., 1., 1., 0., 0., 0., 1., 0., 0., 0., 0., 0.],\n",
            "        [0., 0., 1., 0., 0., 1., 0., 1., 1., 0., 0., 1., 0., 1., 0., 0.]])\n",
            "batch lables: tensor([7., 4.])\n",
            "batch inputs: tensor([[1., 0., 0., 1., 0., 0., 0., 1., 1., 1., 0., 0., 4., 1., 0., 1.],\n",
            "        [0., 0., 1., 0., 0., 1., 1., 0., 0., 0., 0., 0., 6., 0., 0., 0.]])\n",
            "batch lables: tensor([1., 7.])\n",
            "batch inputs: tensor([[1., 0., 0., 1., 0., 0., 0., 1., 1., 1., 0., 0., 4., 0., 1., 0.],\n",
            "        [0., 1., 1., 0., 1., 1., 1., 0., 1., 1., 0., 0., 2., 1., 0., 0.]])\n",
            "batch lables: tensor([1., 2.])\n",
            "batch inputs: tensor([[0., 0., 1., 0., 0., 0., 0., 0., 0., 1., 0., 0., 0., 0., 0., 0.],\n",
            "        [0., 0., 1., 0., 0., 1., 1., 0., 0., 0., 0., 0., 6., 0., 0., 0.]])\n",
            "batch lables: tensor([7., 7.])\n",
            "batch inputs: tensor([[1., 0., 0., 1., 0., 0., 1., 1., 1., 1., 0., 0., 4., 1., 0., 1.],\n",
            "        [1., 0., 0., 1., 0., 1., 1., 1., 1., 1., 0., 1., 2., 1., 0., 1.]])\n",
            "batch lables: tensor([1., 1.])\n",
            "batch inputs: tensor([[0., 0., 1., 0., 0., 1., 0., 1., 1., 0., 0., 1., 0., 1., 1., 0.],\n",
            "        [0., 0., 1., 0., 0., 0., 1., 1., 1., 1., 0., 0., 0., 1., 0., 0.]])\n",
            "batch lables: tensor([4., 3.])\n",
            "batch inputs: tensor([[1., 0., 1., 0., 1., 0., 0., 0., 0., 1., 1., 0., 6., 0., 1., 0.],\n",
            "        [0., 1., 1., 0., 0., 0., 1., 0., 1., 1., 0., 0., 2., 1., 0., 1.]])\n",
            "batch lables: tensor([6., 2.])\n",
            "batch inputs: tensor([[1., 0., 0., 1., 0., 0., 1., 1., 1., 1., 0., 0., 4., 1., 0., 1.],\n",
            "        [0., 1., 1., 0., 0., 1., 1., 0., 1., 1., 0., 0., 2., 1., 0., 1.]])\n",
            "batch lables: tensor([1., 2.])\n",
            "batch inputs: tensor([[0., 1., 1., 0., 1., 0., 0., 0., 1., 1., 0., 0., 2., 1., 0., 0.],\n",
            "        [1., 0., 0., 1., 1., 0., 0., 1., 1., 1., 0., 0., 2., 1., 0., 0.]])\n",
            "batch lables: tensor([2., 1.])\n",
            "batch inputs: tensor([[1., 0., 0., 1., 0., 0., 1., 1., 1., 1., 0., 0., 4., 1., 0., 1.],\n",
            "        [0., 0., 1., 0., 0., 1., 1., 1., 1., 0., 0., 1., 0., 1., 0., 0.]])\n",
            "batch lables: tensor([1., 4.])\n",
            "batch inputs: tensor([[0., 0., 0., 1., 0., 1., 1., 1., 1., 1., 0., 1., 0., 1., 0., 1.],\n",
            "        [0., 0., 1., 0., 0., 0., 1., 1., 1., 1., 1., 0., 0., 1., 0., 0.]])\n",
            "batch lables: tensor([1., 3.])\n",
            "batch inputs: tensor([[1., 0., 0., 1., 0., 0., 1., 1., 1., 1., 0., 0., 4., 1., 0., 1.],\n",
            "        [1., 0., 0., 1., 0., 0., 1., 1., 1., 1., 0., 0., 4., 1., 0., 1.]])\n",
            "batch lables: tensor([1., 1.])\n",
            "batch inputs: tensor([[0., 0., 1., 0., 0., 0., 0., 0., 0., 1., 0., 0., 6., 0., 0., 0.],\n",
            "        [0., 0., 0., 0., 0., 0., 1., 0., 0., 1., 1., 0., 8., 1., 0., 0.]])\n",
            "batch lables: tensor([6., 7.])\n",
            "batch inputs: tensor([[0., 1., 1., 0., 1., 1., 1., 0., 1., 1., 0., 0., 2., 1., 0., 0.],\n",
            "        [0., 0., 1., 0., 0., 1., 0., 1., 1., 0., 0., 1., 0., 1., 0., 0.]])\n",
            "batch lables: tensor([2., 4.])\n",
            "batch inputs: tensor([[0., 0., 0., 1., 0., 1., 1., 1., 1., 1., 0., 1., 0., 1., 0., 1.],\n",
            "        [1., 0., 0., 1., 0., 0., 1., 1., 1., 1., 0., 0., 4., 1., 0., 1.]])\n",
            "batch lables: tensor([1., 1.])\n",
            "batch inputs: tensor([[0., 0., 1., 0., 0., 1., 0., 1., 1., 1., 0., 0., 4., 0., 0., 0.],\n",
            "        [1., 0., 0., 1., 0., 1., 1., 1., 1., 1., 0., 1., 0., 0., 0., 1.]])\n",
            "batch lables: tensor([5., 1.])\n",
            "batch inputs: tensor([[1., 0., 0., 1., 0., 0., 1., 1., 1., 1., 0., 0., 4., 0., 0., 1.],\n",
            "        [1., 0., 0., 1., 0., 0., 0., 1., 1., 1., 0., 0., 4., 1., 0., 1.]])\n",
            "batch lables: tensor([1., 1.])\n",
            "batch inputs: tensor([[0., 0., 1., 0., 1., 0., 1., 0., 0., 1., 0., 0., 6., 0., 0., 0.],\n",
            "        [1., 0., 0., 1., 0., 1., 1., 1., 1., 1., 0., 0., 4., 1., 0., 1.]])\n",
            "batch lables: tensor([6., 1.])\n",
            "batch inputs: tensor([[0., 0., 1., 0., 0., 1., 0., 1., 1., 0., 0., 1., 0., 1., 0., 0.],\n",
            "        [0., 1., 1., 0., 1., 1., 0., 0., 1., 1., 0., 0., 2., 1., 0., 1.]])\n",
            "batch lables: tensor([4., 2.])\n",
            "batch inputs: tensor([[0., 0., 1., 0., 0., 1., 1., 0., 0., 0., 0., 0., 8., 0., 0., 1.],\n",
            "        [0., 0., 1., 0., 0., 1., 1., 1., 1., 0., 0., 1., 0., 1., 0., 1.]])\n",
            "batch lables: tensor([7., 4.])\n",
            "batch inputs: tensor([[1., 0., 0., 1., 0., 0., 1., 1., 1., 1., 0., 0., 4., 1., 0., 1.],\n",
            "        [0., 0., 1., 0., 0., 1., 1., 1., 1., 0., 0., 1., 0., 1., 0., 0.]])\n",
            "batch lables: tensor([1., 4.])\n",
            "batch inputs: tensor([[1., 0., 0., 1., 0., 0., 0., 1., 1., 1., 0., 0., 4., 1., 0., 1.],\n",
            "        [1., 0., 0., 1., 0., 0., 1., 1., 1., 1., 0., 0., 4., 1., 1., 1.]])\n",
            "batch lables: tensor([1., 1.])\n",
            "batch inputs: tensor([[0., 1., 1., 0., 1., 0., 0., 0., 1., 1., 0., 0., 2., 1., 1., 0.],\n",
            "        [0., 0., 1., 0., 0., 1., 1., 1., 1., 0., 0., 1., 0., 1., 0., 0.]])\n",
            "batch lables: tensor([2., 4.])\n",
            "batch inputs: tensor([[1., 0., 0., 1., 0., 0., 0., 1., 1., 1., 0., 0., 4., 1., 0., 1.],\n",
            "        [1., 0., 1., 1., 0., 1., 1., 0., 1., 1., 0., 0., 4., 1., 0., 1.]])\n",
            "batch lables: tensor([1., 1.])\n",
            "batch inputs: tensor([[0., 0., 1., 0., 0., 0., 1., 1., 1., 1., 0., 0., 4., 1., 0., 0.],\n",
            "        [1., 0., 0., 1., 0., 0., 0., 1., 1., 1., 0., 0., 4., 1., 0., 1.]])\n",
            "batch lables: tensor([3., 1.])\n",
            "batch inputs: tensor([[0., 0., 1., 0., 0., 1., 1., 1., 1., 0., 0., 1., 0., 1., 0., 1.],\n",
            "        [0., 0., 1., 0., 0., 1., 1., 0., 0., 0., 0., 0., 4., 0., 0., 0.]])\n",
            "batch lables: tensor([4., 7.])\n",
            "batch inputs: tensor([[1., 0., 0., 1., 0., 0., 0., 1., 1., 1., 0., 0., 2., 0., 0., 1.],\n",
            "        [1., 0., 0., 1., 0., 0., 1., 1., 1., 1., 0., 0., 4., 1., 0., 1.]])\n",
            "batch lables: tensor([1., 1.])\n",
            "batch inputs: tensor([[1., 0., 0., 1., 0., 0., 0., 1., 1., 1., 0., 0., 4., 1., 1., 1.],\n",
            "        [1., 0., 0., 1., 0., 0., 1., 1., 1., 1., 0., 0., 2., 0., 1., 1.]])\n",
            "batch lables: tensor([1., 1.])\n",
            "batch inputs: tensor([[0., 0., 0., 0., 0., 1., 1., 1., 1., 0., 1., 0., 0., 1., 0., 0.],\n",
            "        [1., 0., 1., 0., 1., 0., 0., 0., 0., 1., 1., 0., 6., 0., 0., 0.]])\n",
            "batch lables: tensor([3., 6.])\n",
            "batch inputs: tensor([[1., 0., 0., 1., 0., 0., 0., 1., 1., 1., 0., 0., 4., 1., 1., 1.],\n",
            "        [0., 1., 1., 0., 1., 1., 1., 0., 1., 1., 0., 0., 2., 1., 0., 0.]])\n",
            "batch lables: tensor([1., 2.])\n",
            "batch inputs: tensor([[0., 1., 1., 0., 1., 0., 1., 0., 1., 1., 0., 0., 2., 1., 0., 0.],\n",
            "        [0., 0., 1., 0., 0., 1., 1., 1., 1., 1., 0., 0., 4., 1., 0., 0.]])\n",
            "batch lables: tensor([2., 5.])\n",
            "batch inputs: tensor([[0., 1., 1., 0., 1., 0., 0., 0., 1., 1., 0., 0., 2., 1., 0., 0.],\n",
            "        [1., 0., 0., 1., 0., 0., 0., 1., 1., 1., 0., 0., 4., 1., 1., 0.]])\n",
            "batch lables: tensor([2., 1.])\n",
            "batch inputs: tensor([[1., 0., 1., 0., 1., 0., 0., 0., 0., 1., 0., 0., 6., 0., 0., 0.],\n",
            "        [1., 0., 1., 0., 1., 0., 0., 0., 0., 1., 0., 0., 6., 0., 0., 0.]])\n",
            "batch lables: tensor([6., 6.])\n",
            "batch inputs: tensor([[0., 0., 1., 0., 0., 1., 1., 1., 1., 0., 0., 1., 0., 1., 0., 0.],\n",
            "        [0., 0., 1., 0., 1., 0., 0., 0., 0., 1., 0., 0., 6., 0., 0., 0.]])\n",
            "batch lables: tensor([4., 6.])\n",
            "batch inputs: tensor([[1., 0., 0., 1., 0., 0., 0., 1., 1., 1., 0., 0., 4., 1., 0., 1.],\n",
            "        [0., 0., 1., 0., 0., 1., 1., 1., 1., 0., 1., 1., 0., 1., 0., 1.]])\n",
            "batch lables: tensor([1., 4.])\n",
            "batch inputs: tensor([[0., 0., 1., 0., 0., 1., 1., 1., 1., 0., 0., 1., 0., 1., 0., 0.]])\n",
            "batch lables: tensor([4.])\n"
          ]
        }
      ]
    },
    {
      "cell_type": "markdown",
      "source": [
        "Evaluating model performance"
      ],
      "metadata": {
        "id": "oAGId3z9ULF3"
      }
    },
    {
      "cell_type": "markdown",
      "source": [
        "Calculating training loss\n",
        "* For each epoch:\n",
        "  * we sum up the loss for each iteration of the training set dataloader\n",
        "  * at the end of the epoch, we calculate the mean training loss"
      ],
      "metadata": {
        "id": "epYU9x9IUYqz"
      }
    },
    {
      "cell_type": "code",
      "source": [
        "traning_loss=0.0\n",
        "for i,data in enumerate(trainloader,0):\n",
        "  #Run the forward pass\n",
        "  ...\n",
        "  #Calculate the loss\n",
        "  loss= criterion(outputs,lables)\n",
        "  #Calclulate the gradients\n",
        "  ...\n",
        "  #Calculate and sum the loss\n",
        "  training_loss+=loss/item()\n",
        "epoch_loss= training_loss/len(trainloader)\n"
      ],
      "metadata": {
        "colab": {
          "base_uri": "https://localhost:8080/",
          "height": 211
        },
        "id": "BIQcaNASNSyw",
        "outputId": "7e160e7c-2265-4529-c23e-68284aa65d0c"
      },
      "execution_count": null,
      "outputs": [
        {
          "output_type": "error",
          "ename": "NameError",
          "evalue": "name 'trainloader' is not defined",
          "traceback": [
            "\u001b[0;31m---------------------------------------------------------------------------\u001b[0m",
            "\u001b[0;31mNameError\u001b[0m                                 Traceback (most recent call last)",
            "\u001b[0;32m<ipython-input-22-8cd9162399b9>\u001b[0m in \u001b[0;36m<cell line: 2>\u001b[0;34m()\u001b[0m\n\u001b[1;32m      1\u001b[0m \u001b[0mtraning_loss\u001b[0m\u001b[0;34m=\u001b[0m\u001b[0;36m0.0\u001b[0m\u001b[0;34m\u001b[0m\u001b[0;34m\u001b[0m\u001b[0m\n\u001b[0;32m----> 2\u001b[0;31m \u001b[0;32mfor\u001b[0m \u001b[0mi\u001b[0m\u001b[0;34m,\u001b[0m\u001b[0mdata\u001b[0m \u001b[0;32min\u001b[0m \u001b[0menumerate\u001b[0m\u001b[0;34m(\u001b[0m\u001b[0mtrainloader\u001b[0m\u001b[0;34m,\u001b[0m\u001b[0;36m0\u001b[0m\u001b[0;34m)\u001b[0m\u001b[0;34m:\u001b[0m\u001b[0;34m\u001b[0m\u001b[0;34m\u001b[0m\u001b[0m\n\u001b[0m\u001b[1;32m      3\u001b[0m   \u001b[0;31m#Run the forward pass\u001b[0m\u001b[0;34m\u001b[0m\u001b[0;34m\u001b[0m\u001b[0m\n\u001b[1;32m      4\u001b[0m   \u001b[0;34m...\u001b[0m\u001b[0;34m\u001b[0m\u001b[0;34m\u001b[0m\u001b[0m\n\u001b[1;32m      5\u001b[0m   \u001b[0;31m#Calculate the loss\u001b[0m\u001b[0;34m\u001b[0m\u001b[0;34m\u001b[0m\u001b[0m\n",
            "\u001b[0;31mNameError\u001b[0m: name 'trainloader' is not defined"
          ]
        }
      ]
    },
    {
      "cell_type": "markdown",
      "source": [
        "Calclulating the validation loss\n",
        "  * After the training epoch, we iterate over the validation set and calculate the average validation loss"
      ],
      "metadata": {
        "id": "VamehKR3Vg12"
      }
    },
    {
      "cell_type": "code",
      "source": [
        "valiadtion_loss=0\n",
        "model.eval() #put the model in evaluation mode\n",
        "with torch.no_grad(): #speed up the forward pass\n",
        "  for i,data in enumerate(validationloader,0);\n",
        "  #Run the forward pass\n",
        "  ...\n",
        "  #Calculate the loss\n",
        "  loss= criterion(outputs,lables)\n",
        "  valiadtion_loss+=loss/item()\n",
        "epoch_loss= valiadtion_loss/len(validationloader)\n",
        "model.train()\n"
      ],
      "metadata": {
        "id": "x5g96AubVfhu"
      },
      "execution_count": null,
      "outputs": []
    },
    {
      "cell_type": "markdown",
      "source": [
        "Calculating accuracy with torchmetrics"
      ],
      "metadata": {
        "id": "RzHBPW0BY1Cm"
      }
    },
    {
      "cell_type": "code",
      "source": [
        "import torchmetrics\n",
        "#create accuracy metric using torch metrics\n",
        "metric= torchmetrics.accuracy(task=\"multiclass\",num_classes=3)\n",
        "for i,data in enumerate (dataloader,0):\n",
        "  features,labels=data\n",
        "  output=model(features)\n",
        "  acc=metric(output,labels.argmax(dim=-1))\n",
        "#Calculate accuracy over the whole epoch\n",
        "acc=metric.compute()\n",
        "print(f\"Accuracy on all data:{acc}\")\n",
        "#Reset the metric for the next epoch(training or validation)\n",
        "metric.reset()"
      ],
      "metadata": {
        "id": "FAM2aGibY5aM"
      },
      "execution_count": null,
      "outputs": []
    },
    {
      "cell_type": "markdown",
      "source": [
        "Fighting overfittting\n",
        "Strategies:\n",
        "  * Reducing model size or adding dropout layer\n",
        "  * Using weight decay to force parameters to remain small\n",
        "  * Obtain new data or augmenting data"
      ],
      "metadata": {
        "id": "P9sKCWzHabxo"
      }
    },
    {
      "cell_type": "markdown",
      "source": [
        "Regularization using a dropout layer"
      ],
      "metadata": {
        "id": "34ddgMNvkRev"
      }
    },
    {
      "cell_type": "code",
      "source": [
        "import torch\n",
        "model= nn.Sequential(\n",
        "    nn.Linear(8,4),\n",
        "    nn.ReLU(),\n",
        "    nn.Dropout(p=0.5)\n",
        "\n",
        "    )\n",
        "features= torch.randn((1,8))\n",
        "output=model(features)\n",
        "\n",
        "print(output)"
      ],
      "metadata": {
        "id": "4lApnKZoagGU",
        "colab": {
          "base_uri": "https://localhost:8080/"
        },
        "outputId": "90e9f88c-72e5-4ac4-a40a-539ecad9c95d"
      },
      "execution_count": 5,
      "outputs": [
        {
          "output_type": "stream",
          "name": "stdout",
          "text": [
            "tensor([[1.8871, 0.0000, 0.0000, 0.0000]], grad_fn=<MulBackward0>)\n"
          ]
        }
      ]
    },
    {
      "cell_type": "markdown",
      "source": [
        "* Randomly zeroes out elements of the input tensor during training.\n",
        "* Dropout is added after the activation function.\n",
        "* Behaves differently during training and evaluation; we must remember to switch modes using model.train() and model.eval()"
      ],
      "metadata": {
        "id": "msFeQ63Jlinu"
      }
    },
    {
      "cell_type": "markdown",
      "source": [
        "Regularization with weight decay\n",
        "\n",
        "Optimizer=optim.SGD(model.parameters(),lr=1e-3,weight_decay=1e-4)\n",
        "\n",
        "* Optimizer's weight_decay takes values between zero and one ( Typically small value, e.g. 1e-3\n",
        "* Weight decay adds penalty to loss function to discourage large weights and biases.\n",
        "* The higher the parameter, the less likely the model is to overfit."
      ],
      "metadata": {
        "id": "XpK8RECWmHoW"
      }
    },
    {
      "cell_type": "markdown",
      "source": [
        "Improving model performance"
      ],
      "metadata": {
        "id": "T4shhDs9m6d_"
      }
    },
    {
      "cell_type": "markdown",
      "source": [
        "Steps to maximize performance\n",
        "\n",
        "* Overfit the training set\n",
        "  * Can we solve the problem?\n",
        "  * sets a performance baseline\n",
        "* Reduce overfitting\n",
        "  * Imrpove performances on the validation set\n",
        "* Fine-tune hyperparameters"
      ],
      "metadata": {
        "id": "_vlakDb7nLD2"
      }
    },
    {
      "cell_type": "markdown",
      "source": [
        "Step 1: overfit the training set\n",
        "\n",
        "* Modify the training loop to overfit a single data point (batch size of 1)\n",
        "  * should reach 1.0 accuracy and 0 loss\n",
        "  * helps findings bugs in the code\n",
        "\n",
        "* Goal: minimize the training loss\n",
        "  * create large enough model\n",
        "  * use a default learning rate\n",
        "  "
      ],
      "metadata": {
        "id": "anSaBUZZnqLq"
      }
    },
    {
      "cell_type": "code",
      "source": [
        "features,labels= next(iter(trainloader))\n",
        "for i in range(1e-3):\n",
        "  outputs= model(features)\n",
        "  loss= criterion(outputs,lables)\n",
        "  loss.backward()\n",
        "  optimizer.step()\n",
        ""
      ],
      "metadata": {
        "id": "ymTC40JvktBF"
      },
      "execution_count": null,
      "outputs": []
    },
    {
      "cell_type": "markdown",
      "source": [
        "Step 2: reduce overfitting\n",
        "* Goal: maximize the validation accuracy\n",
        "* Experiment with:\n",
        "  * Dropoout\n",
        "  * Data augmentation\n",
        "  * Weight decay\n",
        "  * Reducing model capacity\n",
        "* Keep track of each hyperparameter and report maximum validation accuracy\n"
      ],
      "metadata": {
        "id": "NSr9FTnwoo5P"
      }
    },
    {
      "cell_type": "markdown",
      "source": [
        "Step 3: fine-tune hyperparameters\n"
      ],
      "metadata": {
        "id": "Oc7ls-5opOPi"
      }
    },
    {
      "cell_type": "code",
      "source": [
        "# grid search\n",
        "for factor in range(2,6):\n",
        "  lr=10**-factor\n",
        "# Random search\n",
        "factor=np.random.uniform(2,6)\n",
        "lr=10**-factor"
      ],
      "metadata": {
        "colab": {
          "base_uri": "https://localhost:8080/",
          "height": 193
        },
        "id": "d4rYKOZqpNID",
        "outputId": "cac30895-2435-48fa-e674-e03c210e7957"
      },
      "execution_count": 6,
      "outputs": [
        {
          "output_type": "error",
          "ename": "NameError",
          "evalue": "name 'np' is not defined",
          "traceback": [
            "\u001b[0;31m---------------------------------------------------------------------------\u001b[0m",
            "\u001b[0;31mNameError\u001b[0m                                 Traceback (most recent call last)",
            "\u001b[0;32m<ipython-input-6-17854727d98a>\u001b[0m in \u001b[0;36m<cell line: 5>\u001b[0;34m()\u001b[0m\n\u001b[1;32m      3\u001b[0m   \u001b[0mlr\u001b[0m\u001b[0;34m=\u001b[0m\u001b[0;36m10\u001b[0m\u001b[0;34m**\u001b[0m\u001b[0;34m-\u001b[0m\u001b[0mfactor\u001b[0m\u001b[0;34m\u001b[0m\u001b[0;34m\u001b[0m\u001b[0m\n\u001b[1;32m      4\u001b[0m \u001b[0;31m# Random search\u001b[0m\u001b[0;34m\u001b[0m\u001b[0;34m\u001b[0m\u001b[0m\n\u001b[0;32m----> 5\u001b[0;31m \u001b[0mfactor\u001b[0m\u001b[0;34m=\u001b[0m\u001b[0mnp\u001b[0m\u001b[0;34m.\u001b[0m\u001b[0mrandom\u001b[0m\u001b[0;34m.\u001b[0m\u001b[0muniform\u001b[0m\u001b[0;34m(\u001b[0m\u001b[0;36m2\u001b[0m\u001b[0;34m,\u001b[0m\u001b[0;36m6\u001b[0m\u001b[0;34m)\u001b[0m\u001b[0;34m\u001b[0m\u001b[0;34m\u001b[0m\u001b[0m\n\u001b[0m\u001b[1;32m      6\u001b[0m \u001b[0mlr\u001b[0m\u001b[0;34m=\u001b[0m\u001b[0;36m10\u001b[0m\u001b[0;34m**\u001b[0m\u001b[0;34m-\u001b[0m\u001b[0mfactor\u001b[0m\u001b[0;34m\u001b[0m\u001b[0;34m\u001b[0m\u001b[0m\n",
            "\u001b[0;31mNameError\u001b[0m: name 'np' is not defined"
          ]
        }
      ]
    },
    {
      "cell_type": "markdown",
      "source": [
        "A good book : https://www.deeplearningbook.org/"
      ],
      "metadata": {
        "id": "OwoGpdj-qpRf"
      }
    },
    {
      "cell_type": "code",
      "source": [],
      "metadata": {
        "id": "AXqasmfNplMj"
      },
      "execution_count": null,
      "outputs": []
    }
  ]
}